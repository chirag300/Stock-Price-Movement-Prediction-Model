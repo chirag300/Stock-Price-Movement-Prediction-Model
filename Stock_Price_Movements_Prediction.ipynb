{
  "nbformat": 4,
  "nbformat_minor": 0,
  "metadata": {
    "colab": {
      "provenance": [],
      "toc_visible": true,
      "authorship_tag": "ABX9TyOJihpDm4+IgxuyVUni3AJd",
      "include_colab_link": true
    },
    "kernelspec": {
      "name": "python3",
      "display_name": "Python 3"
    },
    "language_info": {
      "name": "python"
    }
  },
  "cells": [
    {
      "cell_type": "markdown",
      "metadata": {
        "id": "view-in-github",
        "colab_type": "text"
      },
      "source": [
        "<a href=\"https://colab.research.google.com/github/chirag300/Stock-Price-Movement-Prediction-Model/blob/main/Stock_Price_Movements_Prediction.ipynb\" target=\"_parent\"><img src=\"https://colab.research.google.com/assets/colab-badge.svg\" alt=\"Open In Colab\"/></a>"
      ]
    },
    {
      "cell_type": "markdown",
      "source": [
        "#Import Libraries\n",
        "\n"
      ],
      "metadata": {
        "id": "7rf7SqdVpI5H"
      }
    },
    {
      "cell_type": "code",
      "execution_count": 435,
      "metadata": {
        "id": "11T-NVqNE0QX"
      },
      "outputs": [],
      "source": [
        "import numpy as np\n",
        "import pandas as pd\n",
        "import matplotlib.pyplot as plt\n",
        "import seaborn as sns"
      ]
    },
    {
      "cell_type": "markdown",
      "source": [
        "#Reading Training Dataset"
      ],
      "metadata": {
        "id": "VmXb6klspY5n"
      }
    },
    {
      "cell_type": "code",
      "source": [
        "df = pd.read_csv('/content/train.csv')\n"
      ],
      "metadata": {
        "id": "0tKPGyjnGfOn"
      },
      "execution_count": 436,
      "outputs": []
    },
    {
      "cell_type": "code",
      "source": [
        "df.head()"
      ],
      "metadata": {
        "id": "SeTDbtR-GvsN",
        "colab": {
          "base_uri": "https://localhost:8080/",
          "height": 299
        },
        "outputId": "89867040-2837-47da-91ee-cb1ca2ef9c67"
      },
      "execution_count": 437,
      "outputs": [
        {
          "output_type": "execute_result",
          "data": {
            "text/plain": [
              "       exchange        RSI RSI_signal       ATR  EMA_relative  MA_relative  \\\n",
              "0      BigStock  60.176991       Hold  0.001340      0.999133     0.998415   \n",
              "1    HeroStocks  30.000000        Buy  0.009333      0.999927     0.999907   \n",
              "2   OkayFinance  45.454545       Hold  0.000107      0.998123     0.997812   \n",
              "3  BubbleStocks  61.111111       Hold  0.000207      0.998539     0.998178   \n",
              "4   OkayFinance  66.666667       Hold  0.192000      0.998542     0.998191   \n",
              "\n",
              "   SMA_relative  WMA_relative      MACD  MACD_relative  ...  Bollinger_signal  \\\n",
              "0      0.158790      0.000696  0.000654       0.000990  ...              Hold   \n",
              "1      0.009270      0.000069 -0.007056      -0.000058  ...              Hold   \n",
              "2      0.219298      0.001863 -0.000028      -0.000611  ...              Hold   \n",
              "3      0.182580      0.001528  0.000053       0.000260  ...              Hold   \n",
              "4      0.181218      0.001477  0.140812       0.001585  ...              Hold   \n",
              "\n",
              "   ichimoku_c_conversion_line  ichimoku_c_base_line  \\\n",
              "0                   -0.166616             -0.181763   \n",
              "1                   -0.012268             -0.024536   \n",
              "2                   -0.328228             -0.109409   \n",
              "3                   -0.231877             -0.183061   \n",
              "4                   -0.140734             -0.613601   \n",
              "\n",
              "   ichimoku_c_leading_span_a  ichimoku_c_leading_span_b  ichimoku_c_signal  \\\n",
              "0                  -0.602090                  -0.446834               Sell   \n",
              "1                  -0.292386                  -0.155394               Sell   \n",
              "2                   0.109409                  -0.656455                Buy   \n",
              "3                  -0.170857                  -0.414938                Buy   \n",
              "4                  -0.529160                   1.339788               Sell   \n",
              "\n",
              "   SAR_relative s&p_move_15m  result        id  \n",
              "0     -0.136418     0.252291     2.0  573919.0  \n",
              "1     -0.006776     0.062449     2.0  292589.0  \n",
              "2     -0.143955     0.616755     1.0   80399.0  \n",
              "3     -0.192382     0.343096     1.0  109870.0  \n",
              "4     -0.199855    -0.352336     2.0  289641.0  \n",
              "\n",
              "[5 rows x 40 columns]"
            ],
            "text/html": [
              "\n",
              "  <div id=\"df-fd5d4768-2941-45f7-9667-d966c6cbfe41\">\n",
              "    <div class=\"colab-df-container\">\n",
              "      <div>\n",
              "<style scoped>\n",
              "    .dataframe tbody tr th:only-of-type {\n",
              "        vertical-align: middle;\n",
              "    }\n",
              "\n",
              "    .dataframe tbody tr th {\n",
              "        vertical-align: top;\n",
              "    }\n",
              "\n",
              "    .dataframe thead th {\n",
              "        text-align: right;\n",
              "    }\n",
              "</style>\n",
              "<table border=\"1\" class=\"dataframe\">\n",
              "  <thead>\n",
              "    <tr style=\"text-align: right;\">\n",
              "      <th></th>\n",
              "      <th>exchange</th>\n",
              "      <th>RSI</th>\n",
              "      <th>RSI_signal</th>\n",
              "      <th>ATR</th>\n",
              "      <th>EMA_relative</th>\n",
              "      <th>MA_relative</th>\n",
              "      <th>SMA_relative</th>\n",
              "      <th>WMA_relative</th>\n",
              "      <th>MACD</th>\n",
              "      <th>MACD_relative</th>\n",
              "      <th>...</th>\n",
              "      <th>Bollinger_signal</th>\n",
              "      <th>ichimoku_c_conversion_line</th>\n",
              "      <th>ichimoku_c_base_line</th>\n",
              "      <th>ichimoku_c_leading_span_a</th>\n",
              "      <th>ichimoku_c_leading_span_b</th>\n",
              "      <th>ichimoku_c_signal</th>\n",
              "      <th>SAR_relative</th>\n",
              "      <th>s&amp;p_move_15m</th>\n",
              "      <th>result</th>\n",
              "      <th>id</th>\n",
              "    </tr>\n",
              "  </thead>\n",
              "  <tbody>\n",
              "    <tr>\n",
              "      <th>0</th>\n",
              "      <td>BigStock</td>\n",
              "      <td>60.176991</td>\n",
              "      <td>Hold</td>\n",
              "      <td>0.001340</td>\n",
              "      <td>0.999133</td>\n",
              "      <td>0.998415</td>\n",
              "      <td>0.158790</td>\n",
              "      <td>0.000696</td>\n",
              "      <td>0.000654</td>\n",
              "      <td>0.000990</td>\n",
              "      <td>...</td>\n",
              "      <td>Hold</td>\n",
              "      <td>-0.166616</td>\n",
              "      <td>-0.181763</td>\n",
              "      <td>-0.602090</td>\n",
              "      <td>-0.446834</td>\n",
              "      <td>Sell</td>\n",
              "      <td>-0.136418</td>\n",
              "      <td>0.252291</td>\n",
              "      <td>2.0</td>\n",
              "      <td>573919.0</td>\n",
              "    </tr>\n",
              "    <tr>\n",
              "      <th>1</th>\n",
              "      <td>HeroStocks</td>\n",
              "      <td>30.000000</td>\n",
              "      <td>Buy</td>\n",
              "      <td>0.009333</td>\n",
              "      <td>0.999927</td>\n",
              "      <td>0.999907</td>\n",
              "      <td>0.009270</td>\n",
              "      <td>0.000069</td>\n",
              "      <td>-0.007056</td>\n",
              "      <td>-0.000058</td>\n",
              "      <td>...</td>\n",
              "      <td>Hold</td>\n",
              "      <td>-0.012268</td>\n",
              "      <td>-0.024536</td>\n",
              "      <td>-0.292386</td>\n",
              "      <td>-0.155394</td>\n",
              "      <td>Sell</td>\n",
              "      <td>-0.006776</td>\n",
              "      <td>0.062449</td>\n",
              "      <td>2.0</td>\n",
              "      <td>292589.0</td>\n",
              "    </tr>\n",
              "    <tr>\n",
              "      <th>2</th>\n",
              "      <td>OkayFinance</td>\n",
              "      <td>45.454545</td>\n",
              "      <td>Hold</td>\n",
              "      <td>0.000107</td>\n",
              "      <td>0.998123</td>\n",
              "      <td>0.997812</td>\n",
              "      <td>0.219298</td>\n",
              "      <td>0.001863</td>\n",
              "      <td>-0.000028</td>\n",
              "      <td>-0.000611</td>\n",
              "      <td>...</td>\n",
              "      <td>Hold</td>\n",
              "      <td>-0.328228</td>\n",
              "      <td>-0.109409</td>\n",
              "      <td>0.109409</td>\n",
              "      <td>-0.656455</td>\n",
              "      <td>Buy</td>\n",
              "      <td>-0.143955</td>\n",
              "      <td>0.616755</td>\n",
              "      <td>1.0</td>\n",
              "      <td>80399.0</td>\n",
              "    </tr>\n",
              "    <tr>\n",
              "      <th>3</th>\n",
              "      <td>BubbleStocks</td>\n",
              "      <td>61.111111</td>\n",
              "      <td>Hold</td>\n",
              "      <td>0.000207</td>\n",
              "      <td>0.998539</td>\n",
              "      <td>0.998178</td>\n",
              "      <td>0.182580</td>\n",
              "      <td>0.001528</td>\n",
              "      <td>0.000053</td>\n",
              "      <td>0.000260</td>\n",
              "      <td>...</td>\n",
              "      <td>Hold</td>\n",
              "      <td>-0.231877</td>\n",
              "      <td>-0.183061</td>\n",
              "      <td>-0.170857</td>\n",
              "      <td>-0.414938</td>\n",
              "      <td>Buy</td>\n",
              "      <td>-0.192382</td>\n",
              "      <td>0.343096</td>\n",
              "      <td>1.0</td>\n",
              "      <td>109870.0</td>\n",
              "    </tr>\n",
              "    <tr>\n",
              "      <th>4</th>\n",
              "      <td>OkayFinance</td>\n",
              "      <td>66.666667</td>\n",
              "      <td>Hold</td>\n",
              "      <td>0.192000</td>\n",
              "      <td>0.998542</td>\n",
              "      <td>0.998191</td>\n",
              "      <td>0.181218</td>\n",
              "      <td>0.001477</td>\n",
              "      <td>0.140812</td>\n",
              "      <td>0.001585</td>\n",
              "      <td>...</td>\n",
              "      <td>Hold</td>\n",
              "      <td>-0.140734</td>\n",
              "      <td>-0.613601</td>\n",
              "      <td>-0.529160</td>\n",
              "      <td>1.339788</td>\n",
              "      <td>Sell</td>\n",
              "      <td>-0.199855</td>\n",
              "      <td>-0.352336</td>\n",
              "      <td>2.0</td>\n",
              "      <td>289641.0</td>\n",
              "    </tr>\n",
              "  </tbody>\n",
              "</table>\n",
              "<p>5 rows × 40 columns</p>\n",
              "</div>\n",
              "      <button class=\"colab-df-convert\" onclick=\"convertToInteractive('df-fd5d4768-2941-45f7-9667-d966c6cbfe41')\"\n",
              "              title=\"Convert this dataframe to an interactive table.\"\n",
              "              style=\"display:none;\">\n",
              "        \n",
              "  <svg xmlns=\"http://www.w3.org/2000/svg\" height=\"24px\"viewBox=\"0 0 24 24\"\n",
              "       width=\"24px\">\n",
              "    <path d=\"M0 0h24v24H0V0z\" fill=\"none\"/>\n",
              "    <path d=\"M18.56 5.44l.94 2.06.94-2.06 2.06-.94-2.06-.94-.94-2.06-.94 2.06-2.06.94zm-11 1L8.5 8.5l.94-2.06 2.06-.94-2.06-.94L8.5 2.5l-.94 2.06-2.06.94zm10 10l.94 2.06.94-2.06 2.06-.94-2.06-.94-.94-2.06-.94 2.06-2.06.94z\"/><path d=\"M17.41 7.96l-1.37-1.37c-.4-.4-.92-.59-1.43-.59-.52 0-1.04.2-1.43.59L10.3 9.45l-7.72 7.72c-.78.78-.78 2.05 0 2.83L4 21.41c.39.39.9.59 1.41.59.51 0 1.02-.2 1.41-.59l7.78-7.78 2.81-2.81c.8-.78.8-2.07 0-2.86zM5.41 20L4 18.59l7.72-7.72 1.47 1.35L5.41 20z\"/>\n",
              "  </svg>\n",
              "      </button>\n",
              "      \n",
              "  <style>\n",
              "    .colab-df-container {\n",
              "      display:flex;\n",
              "      flex-wrap:wrap;\n",
              "      gap: 12px;\n",
              "    }\n",
              "\n",
              "    .colab-df-convert {\n",
              "      background-color: #E8F0FE;\n",
              "      border: none;\n",
              "      border-radius: 50%;\n",
              "      cursor: pointer;\n",
              "      display: none;\n",
              "      fill: #1967D2;\n",
              "      height: 32px;\n",
              "      padding: 0 0 0 0;\n",
              "      width: 32px;\n",
              "    }\n",
              "\n",
              "    .colab-df-convert:hover {\n",
              "      background-color: #E2EBFA;\n",
              "      box-shadow: 0px 1px 2px rgba(60, 64, 67, 0.3), 0px 1px 3px 1px rgba(60, 64, 67, 0.15);\n",
              "      fill: #174EA6;\n",
              "    }\n",
              "\n",
              "    [theme=dark] .colab-df-convert {\n",
              "      background-color: #3B4455;\n",
              "      fill: #D2E3FC;\n",
              "    }\n",
              "\n",
              "    [theme=dark] .colab-df-convert:hover {\n",
              "      background-color: #434B5C;\n",
              "      box-shadow: 0px 1px 3px 1px rgba(0, 0, 0, 0.15);\n",
              "      filter: drop-shadow(0px 1px 2px rgba(0, 0, 0, 0.3));\n",
              "      fill: #FFFFFF;\n",
              "    }\n",
              "  </style>\n",
              "\n",
              "      <script>\n",
              "        const buttonEl =\n",
              "          document.querySelector('#df-fd5d4768-2941-45f7-9667-d966c6cbfe41 button.colab-df-convert');\n",
              "        buttonEl.style.display =\n",
              "          google.colab.kernel.accessAllowed ? 'block' : 'none';\n",
              "\n",
              "        async function convertToInteractive(key) {\n",
              "          const element = document.querySelector('#df-fd5d4768-2941-45f7-9667-d966c6cbfe41');\n",
              "          const dataTable =\n",
              "            await google.colab.kernel.invokeFunction('convertToInteractive',\n",
              "                                                     [key], {});\n",
              "          if (!dataTable) return;\n",
              "\n",
              "          const docLinkHtml = 'Like what you see? Visit the ' +\n",
              "            '<a target=\"_blank\" href=https://colab.research.google.com/notebooks/data_table.ipynb>data table notebook</a>'\n",
              "            + ' to learn more about interactive tables.';\n",
              "          element.innerHTML = '';\n",
              "          dataTable['output_type'] = 'display_data';\n",
              "          await google.colab.output.renderOutput(dataTable, element);\n",
              "          const docLink = document.createElement('div');\n",
              "          docLink.innerHTML = docLinkHtml;\n",
              "          element.appendChild(docLink);\n",
              "        }\n",
              "      </script>\n",
              "    </div>\n",
              "  </div>\n",
              "  "
            ]
          },
          "metadata": {},
          "execution_count": 437
        }
      ]
    },
    {
      "cell_type": "code",
      "source": [
        "df.shape"
      ],
      "metadata": {
        "colab": {
          "base_uri": "https://localhost:8080/"
        },
        "id": "YF-_ziOpHtkg",
        "outputId": "10af10b5-4bec-4001-c31b-453f318e8203"
      },
      "execution_count": 438,
      "outputs": [
        {
          "output_type": "execute_result",
          "data": {
            "text/plain": [
              "(170568, 40)"
            ]
          },
          "metadata": {},
          "execution_count": 438
        }
      ]
    },
    {
      "cell_type": "code",
      "source": [
        "df.info()"
      ],
      "metadata": {
        "colab": {
          "base_uri": "https://localhost:8080/"
        },
        "id": "WRVLzQSKH7YK",
        "outputId": "fe2144b8-516d-45e3-bdad-1a4249ca6721"
      },
      "execution_count": 439,
      "outputs": [
        {
          "output_type": "stream",
          "name": "stdout",
          "text": [
            "<class 'pandas.core.frame.DataFrame'>\n",
            "RangeIndex: 170568 entries, 0 to 170567\n",
            "Data columns (total 40 columns):\n",
            " #   Column                      Non-Null Count   Dtype  \n",
            "---  ------                      --------------   -----  \n",
            " 0   exchange                    170568 non-null  object \n",
            " 1   RSI                         170568 non-null  float64\n",
            " 2   RSI_signal                  170568 non-null  object \n",
            " 3   ATR                         170568 non-null  float64\n",
            " 4   EMA_relative                170568 non-null  float64\n",
            " 5   MA_relative                 170568 non-null  float64\n",
            " 6   SMA_relative                170568 non-null  float64\n",
            " 7   WMA_relative                170568 non-null  float64\n",
            " 8   MACD                        170568 non-null  float64\n",
            " 9   MACD_relative               170568 non-null  float64\n",
            " 10  MACD_relative_signal        170568 non-null  float64\n",
            " 11  MACD_relative_histogram     170568 non-null  float64\n",
            " 12  ADX                         170568 non-null  float64\n",
            " 13  Stoch_O_k_value             170568 non-null  float64\n",
            " 14  Stoch_O_k_smoothed          170568 non-null  float64\n",
            " 15  Stoch_O_d_value             170568 non-null  float64\n",
            " 16  Stoch_O_signal_value        170568 non-null  float64\n",
            " 17  Stoch_O_signal              170568 non-null  object \n",
            " 18  pivot_point                 170568 non-null  float64\n",
            " 19  pivot_support_1             170568 non-null  float64\n",
            " 20  pivot_resistance_1          170568 non-null  float64\n",
            " 21  pivot_support_2             170568 non-null  float64\n",
            " 22  pivot_resistance_2          170568 non-null  float64\n",
            " 23  pivot_support_3             170567 non-null  float64\n",
            " 24  pivot_resistance_3          170567 non-null  float64\n",
            " 25  fibonacci_signal            170567 non-null  object \n",
            " 26  VWAP_relative_short         170567 non-null  float64\n",
            " 27  VWAP_relative_long          170567 non-null  float64\n",
            " 28  Bollinger_upper_band        170567 non-null  float64\n",
            " 29  Bollinger_lower_band        170567 non-null  float64\n",
            " 30  Bollinger_signal            170567 non-null  object \n",
            " 31  ichimoku_c_conversion_line  170567 non-null  float64\n",
            " 32  ichimoku_c_base_line        170567 non-null  float64\n",
            " 33  ichimoku_c_leading_span_a   170567 non-null  float64\n",
            " 34  ichimoku_c_leading_span_b   170567 non-null  float64\n",
            " 35  ichimoku_c_signal           170567 non-null  object \n",
            " 36  SAR_relative                170567 non-null  float64\n",
            " 37  s&p_move_15m                170567 non-null  float64\n",
            " 38  result                      170567 non-null  float64\n",
            " 39  id                          170567 non-null  float64\n",
            "dtypes: float64(34), object(6)\n",
            "memory usage: 52.1+ MB\n"
          ]
        }
      ]
    },
    {
      "cell_type": "code",
      "source": [
        "df.isna().sum()"
      ],
      "metadata": {
        "colab": {
          "base_uri": "https://localhost:8080/"
        },
        "id": "xwsMZqUGIAu4",
        "outputId": "5a4f2207-4f17-496c-a062-2563b9aeaef6"
      },
      "execution_count": 440,
      "outputs": [
        {
          "output_type": "execute_result",
          "data": {
            "text/plain": [
              "exchange                      0\n",
              "RSI                           0\n",
              "RSI_signal                    0\n",
              "ATR                           0\n",
              "EMA_relative                  0\n",
              "MA_relative                   0\n",
              "SMA_relative                  0\n",
              "WMA_relative                  0\n",
              "MACD                          0\n",
              "MACD_relative                 0\n",
              "MACD_relative_signal          0\n",
              "MACD_relative_histogram       0\n",
              "ADX                           0\n",
              "Stoch_O_k_value               0\n",
              "Stoch_O_k_smoothed            0\n",
              "Stoch_O_d_value               0\n",
              "Stoch_O_signal_value          0\n",
              "Stoch_O_signal                0\n",
              "pivot_point                   0\n",
              "pivot_support_1               0\n",
              "pivot_resistance_1            0\n",
              "pivot_support_2               0\n",
              "pivot_resistance_2            0\n",
              "pivot_support_3               1\n",
              "pivot_resistance_3            1\n",
              "fibonacci_signal              1\n",
              "VWAP_relative_short           1\n",
              "VWAP_relative_long            1\n",
              "Bollinger_upper_band          1\n",
              "Bollinger_lower_band          1\n",
              "Bollinger_signal              1\n",
              "ichimoku_c_conversion_line    1\n",
              "ichimoku_c_base_line          1\n",
              "ichimoku_c_leading_span_a     1\n",
              "ichimoku_c_leading_span_b     1\n",
              "ichimoku_c_signal             1\n",
              "SAR_relative                  1\n",
              "s&p_move_15m                  1\n",
              "result                        1\n",
              "id                            1\n",
              "dtype: int64"
            ]
          },
          "metadata": {},
          "execution_count": 440
        }
      ]
    },
    {
      "cell_type": "markdown",
      "source": [
        "#Data Preprocessing"
      ],
      "metadata": {
        "id": "1DBJ0LoGpfRl"
      }
    },
    {
      "cell_type": "markdown",
      "source": [
        "## Dropping null values data rows"
      ],
      "metadata": {
        "id": "o2mi1vdgpjbd"
      }
    },
    {
      "cell_type": "code",
      "source": [
        "nan_rows  = df.loc[df.isna().any(axis=1)]"
      ],
      "metadata": {
        "id": "EFNiGjPmInXx"
      },
      "execution_count": 441,
      "outputs": []
    },
    {
      "cell_type": "code",
      "source": [
        "nan_rows"
      ],
      "metadata": {
        "colab": {
          "base_uri": "https://localhost:8080/",
          "height": 174
        },
        "id": "61Us1xUMJEQN",
        "outputId": "67cb9890-0acb-4423-c973-6cf5281a2294"
      },
      "execution_count": 442,
      "outputs": [
        {
          "output_type": "execute_result",
          "data": {
            "text/plain": [
              "            exchange        RSI RSI_signal    ATR  EMA_relative  MA_relative  \\\n",
              "170567  BubbleStocks  44.444444       Hold  0.001      1.000392     1.000796   \n",
              "\n",
              "        SMA_relative  WMA_relative      MACD  MACD_relative  ...  \\\n",
              "170567     -0.079573     -0.000348 -0.000289      -0.000246  ...   \n",
              "\n",
              "        Bollinger_signal  ichimoku_c_conversion_line  ichimoku_c_base_line  \\\n",
              "170567               NaN                         NaN                   NaN   \n",
              "\n",
              "        ichimoku_c_leading_span_a  ichimoku_c_leading_span_b  \\\n",
              "170567                        NaN                        NaN   \n",
              "\n",
              "        ichimoku_c_signal  SAR_relative s&p_move_15m  result  id  \n",
              "170567                NaN           NaN          NaN     NaN NaN  \n",
              "\n",
              "[1 rows x 40 columns]"
            ],
            "text/html": [
              "\n",
              "  <div id=\"df-23b88986-660e-4c4e-ab71-eb559b2e0d31\">\n",
              "    <div class=\"colab-df-container\">\n",
              "      <div>\n",
              "<style scoped>\n",
              "    .dataframe tbody tr th:only-of-type {\n",
              "        vertical-align: middle;\n",
              "    }\n",
              "\n",
              "    .dataframe tbody tr th {\n",
              "        vertical-align: top;\n",
              "    }\n",
              "\n",
              "    .dataframe thead th {\n",
              "        text-align: right;\n",
              "    }\n",
              "</style>\n",
              "<table border=\"1\" class=\"dataframe\">\n",
              "  <thead>\n",
              "    <tr style=\"text-align: right;\">\n",
              "      <th></th>\n",
              "      <th>exchange</th>\n",
              "      <th>RSI</th>\n",
              "      <th>RSI_signal</th>\n",
              "      <th>ATR</th>\n",
              "      <th>EMA_relative</th>\n",
              "      <th>MA_relative</th>\n",
              "      <th>SMA_relative</th>\n",
              "      <th>WMA_relative</th>\n",
              "      <th>MACD</th>\n",
              "      <th>MACD_relative</th>\n",
              "      <th>...</th>\n",
              "      <th>Bollinger_signal</th>\n",
              "      <th>ichimoku_c_conversion_line</th>\n",
              "      <th>ichimoku_c_base_line</th>\n",
              "      <th>ichimoku_c_leading_span_a</th>\n",
              "      <th>ichimoku_c_leading_span_b</th>\n",
              "      <th>ichimoku_c_signal</th>\n",
              "      <th>SAR_relative</th>\n",
              "      <th>s&amp;p_move_15m</th>\n",
              "      <th>result</th>\n",
              "      <th>id</th>\n",
              "    </tr>\n",
              "  </thead>\n",
              "  <tbody>\n",
              "    <tr>\n",
              "      <th>170567</th>\n",
              "      <td>BubbleStocks</td>\n",
              "      <td>44.444444</td>\n",
              "      <td>Hold</td>\n",
              "      <td>0.001</td>\n",
              "      <td>1.000392</td>\n",
              "      <td>1.000796</td>\n",
              "      <td>-0.079573</td>\n",
              "      <td>-0.000348</td>\n",
              "      <td>-0.000289</td>\n",
              "      <td>-0.000246</td>\n",
              "      <td>...</td>\n",
              "      <td>NaN</td>\n",
              "      <td>NaN</td>\n",
              "      <td>NaN</td>\n",
              "      <td>NaN</td>\n",
              "      <td>NaN</td>\n",
              "      <td>NaN</td>\n",
              "      <td>NaN</td>\n",
              "      <td>NaN</td>\n",
              "      <td>NaN</td>\n",
              "      <td>NaN</td>\n",
              "    </tr>\n",
              "  </tbody>\n",
              "</table>\n",
              "<p>1 rows × 40 columns</p>\n",
              "</div>\n",
              "      <button class=\"colab-df-convert\" onclick=\"convertToInteractive('df-23b88986-660e-4c4e-ab71-eb559b2e0d31')\"\n",
              "              title=\"Convert this dataframe to an interactive table.\"\n",
              "              style=\"display:none;\">\n",
              "        \n",
              "  <svg xmlns=\"http://www.w3.org/2000/svg\" height=\"24px\"viewBox=\"0 0 24 24\"\n",
              "       width=\"24px\">\n",
              "    <path d=\"M0 0h24v24H0V0z\" fill=\"none\"/>\n",
              "    <path d=\"M18.56 5.44l.94 2.06.94-2.06 2.06-.94-2.06-.94-.94-2.06-.94 2.06-2.06.94zm-11 1L8.5 8.5l.94-2.06 2.06-.94-2.06-.94L8.5 2.5l-.94 2.06-2.06.94zm10 10l.94 2.06.94-2.06 2.06-.94-2.06-.94-.94-2.06-.94 2.06-2.06.94z\"/><path d=\"M17.41 7.96l-1.37-1.37c-.4-.4-.92-.59-1.43-.59-.52 0-1.04.2-1.43.59L10.3 9.45l-7.72 7.72c-.78.78-.78 2.05 0 2.83L4 21.41c.39.39.9.59 1.41.59.51 0 1.02-.2 1.41-.59l7.78-7.78 2.81-2.81c.8-.78.8-2.07 0-2.86zM5.41 20L4 18.59l7.72-7.72 1.47 1.35L5.41 20z\"/>\n",
              "  </svg>\n",
              "      </button>\n",
              "      \n",
              "  <style>\n",
              "    .colab-df-container {\n",
              "      display:flex;\n",
              "      flex-wrap:wrap;\n",
              "      gap: 12px;\n",
              "    }\n",
              "\n",
              "    .colab-df-convert {\n",
              "      background-color: #E8F0FE;\n",
              "      border: none;\n",
              "      border-radius: 50%;\n",
              "      cursor: pointer;\n",
              "      display: none;\n",
              "      fill: #1967D2;\n",
              "      height: 32px;\n",
              "      padding: 0 0 0 0;\n",
              "      width: 32px;\n",
              "    }\n",
              "\n",
              "    .colab-df-convert:hover {\n",
              "      background-color: #E2EBFA;\n",
              "      box-shadow: 0px 1px 2px rgba(60, 64, 67, 0.3), 0px 1px 3px 1px rgba(60, 64, 67, 0.15);\n",
              "      fill: #174EA6;\n",
              "    }\n",
              "\n",
              "    [theme=dark] .colab-df-convert {\n",
              "      background-color: #3B4455;\n",
              "      fill: #D2E3FC;\n",
              "    }\n",
              "\n",
              "    [theme=dark] .colab-df-convert:hover {\n",
              "      background-color: #434B5C;\n",
              "      box-shadow: 0px 1px 3px 1px rgba(0, 0, 0, 0.15);\n",
              "      filter: drop-shadow(0px 1px 2px rgba(0, 0, 0, 0.3));\n",
              "      fill: #FFFFFF;\n",
              "    }\n",
              "  </style>\n",
              "\n",
              "      <script>\n",
              "        const buttonEl =\n",
              "          document.querySelector('#df-23b88986-660e-4c4e-ab71-eb559b2e0d31 button.colab-df-convert');\n",
              "        buttonEl.style.display =\n",
              "          google.colab.kernel.accessAllowed ? 'block' : 'none';\n",
              "\n",
              "        async function convertToInteractive(key) {\n",
              "          const element = document.querySelector('#df-23b88986-660e-4c4e-ab71-eb559b2e0d31');\n",
              "          const dataTable =\n",
              "            await google.colab.kernel.invokeFunction('convertToInteractive',\n",
              "                                                     [key], {});\n",
              "          if (!dataTable) return;\n",
              "\n",
              "          const docLinkHtml = 'Like what you see? Visit the ' +\n",
              "            '<a target=\"_blank\" href=https://colab.research.google.com/notebooks/data_table.ipynb>data table notebook</a>'\n",
              "            + ' to learn more about interactive tables.';\n",
              "          element.innerHTML = '';\n",
              "          dataTable['output_type'] = 'display_data';\n",
              "          await google.colab.output.renderOutput(dataTable, element);\n",
              "          const docLink = document.createElement('div');\n",
              "          docLink.innerHTML = docLinkHtml;\n",
              "          element.appendChild(docLink);\n",
              "        }\n",
              "      </script>\n",
              "    </div>\n",
              "  </div>\n",
              "  "
            ]
          },
          "metadata": {},
          "execution_count": 442
        }
      ]
    },
    {
      "cell_type": "code",
      "source": [
        "df = df.drop(df.index[170567])"
      ],
      "metadata": {
        "id": "x-aSFtFxJrCl"
      },
      "execution_count": 443,
      "outputs": []
    },
    {
      "cell_type": "code",
      "source": [
        "df.isna().sum()"
      ],
      "metadata": {
        "colab": {
          "base_uri": "https://localhost:8080/"
        },
        "id": "TM-rUZX9J5nS",
        "outputId": "d70081d0-6e81-4b6c-b59c-f02ef59194ed"
      },
      "execution_count": 444,
      "outputs": [
        {
          "output_type": "execute_result",
          "data": {
            "text/plain": [
              "exchange                      0\n",
              "RSI                           0\n",
              "RSI_signal                    0\n",
              "ATR                           0\n",
              "EMA_relative                  0\n",
              "MA_relative                   0\n",
              "SMA_relative                  0\n",
              "WMA_relative                  0\n",
              "MACD                          0\n",
              "MACD_relative                 0\n",
              "MACD_relative_signal          0\n",
              "MACD_relative_histogram       0\n",
              "ADX                           0\n",
              "Stoch_O_k_value               0\n",
              "Stoch_O_k_smoothed            0\n",
              "Stoch_O_d_value               0\n",
              "Stoch_O_signal_value          0\n",
              "Stoch_O_signal                0\n",
              "pivot_point                   0\n",
              "pivot_support_1               0\n",
              "pivot_resistance_1            0\n",
              "pivot_support_2               0\n",
              "pivot_resistance_2            0\n",
              "pivot_support_3               0\n",
              "pivot_resistance_3            0\n",
              "fibonacci_signal              0\n",
              "VWAP_relative_short           0\n",
              "VWAP_relative_long            0\n",
              "Bollinger_upper_band          0\n",
              "Bollinger_lower_band          0\n",
              "Bollinger_signal              0\n",
              "ichimoku_c_conversion_line    0\n",
              "ichimoku_c_base_line          0\n",
              "ichimoku_c_leading_span_a     0\n",
              "ichimoku_c_leading_span_b     0\n",
              "ichimoku_c_signal             0\n",
              "SAR_relative                  0\n",
              "s&p_move_15m                  0\n",
              "result                        0\n",
              "id                            0\n",
              "dtype: int64"
            ]
          },
          "metadata": {},
          "execution_count": 444
        }
      ]
    },
    {
      "cell_type": "markdown",
      "source": [
        "## Bringing dependent variable column at the end"
      ],
      "metadata": {
        "id": "F9dqqSVlpojs"
      }
    },
    {
      "cell_type": "code",
      "source": [
        "df['result'].value_counts()\n",
        "sns.countplot( data = df, x = 'result')"
      ],
      "metadata": {
        "colab": {
          "base_uri": "https://localhost:8080/",
          "height": 466
        },
        "id": "U2ib55TPJ-ke",
        "outputId": "bb82efe4-1e7a-49c0-e414-45f2015f0a48"
      },
      "execution_count": 445,
      "outputs": [
        {
          "output_type": "execute_result",
          "data": {
            "text/plain": [
              "<Axes: xlabel='result', ylabel='count'>"
            ]
          },
          "metadata": {},
          "execution_count": 445
        },
        {
          "output_type": "display_data",
          "data": {
            "text/plain": [
              "<Figure size 640x480 with 1 Axes>"
            ],
            "image/png": "[encoded data removed]"
          },
          "metadata": {}
        }
      ]
    },
    {
      "cell_type": "code",
      "source": [
        "df['RSI_signal'].value_counts()\n",
        "sns.countplot( data = df, x = 'RSI_signal')"
      ],
      "metadata": {
        "colab": {
          "base_uri": "https://localhost:8080/",
          "height": 467
        },
        "id": "GOlhCWRUKkJ5",
        "outputId": "45870a23-f2cb-43a0-ce76-90cf142906c2"
      },
      "execution_count": 446,
      "outputs": [
        {
          "output_type": "execute_result",
          "data": {
            "text/plain": [
              "<Axes: xlabel='RSI_signal', ylabel='count'>"
            ]
          },
          "metadata": {},
          "execution_count": 446
        },
        {
          "output_type": "display_data",
          "data": {
            "text/plain": [
              "<Figure size 640x480 with 1 Axes>"
            ],
            "image/png": "[encoded data removed]"
          },
          "metadata": {}
        }
      ]
    },
    {
      "cell_type": "code",
      "source": [
        "df['Stoch_O_signal'].value_counts()\n",
        "sns.countplot( data = df, x = 'Stoch_O_signal')"
      ],
      "metadata": {
        "colab": {
          "base_uri": "https://localhost:8080/",
          "height": 467
        },
        "id": "kdI8bV_mKp_O",
        "outputId": "1781a886-6e12-408f-ad3e-8ba02075774a"
      },
      "execution_count": 447,
      "outputs": [
        {
          "output_type": "execute_result",
          "data": {
            "text/plain": [
              "<Axes: xlabel='Stoch_O_signal', ylabel='count'>"
            ]
          },
          "metadata": {},
          "execution_count": 447
        },
        {
          "output_type": "display_data",
          "data": {
            "text/plain": [
              "<Figure size 640x480 with 1 Axes>"
            ],
            "image/png": "[encoded data removed]"
          },
          "metadata": {}
        }
      ]
    },
    {
      "cell_type": "code",
      "source": [
        "df['ichimoku_c_signal'].value_counts()\n",
        "sns.countplot( data = df, x = 'ichimoku_c_signal')"
      ],
      "metadata": {
        "colab": {
          "base_uri": "https://localhost:8080/",
          "height": 467
        },
        "id": "KiCxPtCwLMR5",
        "outputId": "401bb23a-c4fe-4edc-9087-c282759d0f82"
      },
      "execution_count": 448,
      "outputs": [
        {
          "output_type": "execute_result",
          "data": {
            "text/plain": [
              "<Axes: xlabel='ichimoku_c_signal', ylabel='count'>"
            ]
          },
          "metadata": {},
          "execution_count": 448
        },
        {
          "output_type": "display_data",
          "data": {
            "text/plain": [
              "<Figure size 640x480 with 1 Axes>"
            ],
            "image/png": "[encoded data removed]"
          },
          "metadata": {}
        }
      ]
    },
    {
      "cell_type": "code",
      "source": [
        "df['fibonacci_signal'].value_counts()\n",
        "sns.countplot( data = df, x = 'fibonacci_signal')"
      ],
      "metadata": {
        "colab": {
          "base_uri": "https://localhost:8080/",
          "height": 467
        },
        "id": "452ENPpjLWXF",
        "outputId": "84b9b901-5acd-4480-a552-071d5a177625"
      },
      "execution_count": 449,
      "outputs": [
        {
          "output_type": "execute_result",
          "data": {
            "text/plain": [
              "<Axes: xlabel='fibonacci_signal', ylabel='count'>"
            ]
          },
          "metadata": {},
          "execution_count": 449
        },
        {
          "output_type": "display_data",
          "data": {
            "text/plain": [
              "<Figure size 640x480 with 1 Axes>"
            ],
            "image/png": "[encoded data removed]"
          },
          "metadata": {}
        }
      ]
    },
    {
      "cell_type": "code",
      "source": [
        "df['Bollinger_signal'].value_counts()\n",
        "sns.countplot( data = df, x = 'Bollinger_signal')"
      ],
      "metadata": {
        "colab": {
          "base_uri": "https://localhost:8080/",
          "height": 467
        },
        "id": "hXy_hsg1MF0M",
        "outputId": "e0c58c7c-ef90-4561-80c4-50175339670b"
      },
      "execution_count": 450,
      "outputs": [
        {
          "output_type": "execute_result",
          "data": {
            "text/plain": [
              "<Axes: xlabel='Bollinger_signal', ylabel='count'>"
            ]
          },
          "metadata": {},
          "execution_count": 450
        },
        {
          "output_type": "display_data",
          "data": {
            "text/plain": [
              "<Figure size 640x480 with 1 Axes>"
            ],
            "image/png": "[encoded data removed]"
          },
          "metadata": {}
        }
      ]
    },
    {
      "cell_type": "code",
      "source": [
        "df['exchange'].value_counts()\n",
        "sns.countplot( data = df, x = 'exchange')"
      ],
      "metadata": {
        "colab": {
          "base_uri": "https://localhost:8080/",
          "height": 466
        },
        "id": "tzpNDr9vMO2y",
        "outputId": "9766546e-23fa-454b-9430-8f58a699f58a"
      },
      "execution_count": 451,
      "outputs": [
        {
          "output_type": "execute_result",
          "data": {
            "text/plain": [
              "<Axes: xlabel='exchange', ylabel='count'>"
            ]
          },
          "metadata": {},
          "execution_count": 451
        },
        {
          "output_type": "display_data",
          "data": {
            "text/plain": [
              "<Figure size 640x480 with 1 Axes>"
            ],
            "image/png": "[encoded data removed]"
          },
          "metadata": {}
        }
      ]
    },
    {
      "cell_type": "code",
      "source": [
        "df.head()"
      ],
      "metadata": {
        "colab": {
          "base_uri": "https://localhost:8080/",
          "height": 299
        },
        "id": "wI7FZo0oMYgc",
        "outputId": "ea8a4864-470d-4953-9fb5-f90ca787666b"
      },
      "execution_count": 452,
      "outputs": [
        {
          "output_type": "execute_result",
          "data": {
            "text/plain": [
              "       exchange        RSI RSI_signal       ATR  EMA_relative  MA_relative  \\\n",
              "0      BigStock  60.176991       Hold  0.001340      0.999133     0.998415   \n",
              "1    HeroStocks  30.000000        Buy  0.009333      0.999927     0.999907   \n",
              "2   OkayFinance  45.454545       Hold  0.000107      0.998123     0.997812   \n",
              "3  BubbleStocks  61.111111       Hold  0.000207      0.998539     0.998178   \n",
              "4   OkayFinance  66.666667       Hold  0.192000      0.998542     0.998191   \n",
              "\n",
              "   SMA_relative  WMA_relative      MACD  MACD_relative  ...  Bollinger_signal  \\\n",
              "0      0.158790      0.000696  0.000654       0.000990  ...              Hold   \n",
              "1      0.009270      0.000069 -0.007056      -0.000058  ...              Hold   \n",
              "2      0.219298      0.001863 -0.000028      -0.000611  ...              Hold   \n",
              "3      0.182580      0.001528  0.000053       0.000260  ...              Hold   \n",
              "4      0.181218      0.001477  0.140812       0.001585  ...              Hold   \n",
              "\n",
              "   ichimoku_c_conversion_line  ichimoku_c_base_line  \\\n",
              "0                   -0.166616             -0.181763   \n",
              "1                   -0.012268             -0.024536   \n",
              "2                   -0.328228             -0.109409   \n",
              "3                   -0.231877             -0.183061   \n",
              "4                   -0.140734             -0.613601   \n",
              "\n",
              "   ichimoku_c_leading_span_a  ichimoku_c_leading_span_b  ichimoku_c_signal  \\\n",
              "0                  -0.602090                  -0.446834               Sell   \n",
              "1                  -0.292386                  -0.155394               Sell   \n",
              "2                   0.109409                  -0.656455                Buy   \n",
              "3                  -0.170857                  -0.414938                Buy   \n",
              "4                  -0.529160                   1.339788               Sell   \n",
              "\n",
              "   SAR_relative s&p_move_15m  result        id  \n",
              "0     -0.136418     0.252291     2.0  573919.0  \n",
              "1     -0.006776     0.062449     2.0  292589.0  \n",
              "2     -0.143955     0.616755     1.0   80399.0  \n",
              "3     -0.192382     0.343096     1.0  109870.0  \n",
              "4     -0.199855    -0.352336     2.0  289641.0  \n",
              "\n",
              "[5 rows x 40 columns]"
            ],
            "text/html": [
              "\n",
              "  <div id=\"df-a621c20c-cd4e-4a94-8edb-4e7cd9dd93ec\">\n",
              "    <div class=\"colab-df-container\">\n",
              "      <div>\n",
              "<style scoped>\n",
              "    .dataframe tbody tr th:only-of-type {\n",
              "        vertical-align: middle;\n",
              "    }\n",
              "\n",
              "    .dataframe tbody tr th {\n",
              "        vertical-align: top;\n",
              "    }\n",
              "\n",
              "    .dataframe thead th {\n",
              "        text-align: right;\n",
              "    }\n",
              "</style>\n",
              "<table border=\"1\" class=\"dataframe\">\n",
              "  <thead>\n",
              "    <tr style=\"text-align: right;\">\n",
              "      <th></th>\n",
              "      <th>exchange</th>\n",
              "      <th>RSI</th>\n",
              "      <th>RSI_signal</th>\n",
              "      <th>ATR</th>\n",
              "      <th>EMA_relative</th>\n",
              "      <th>MA_relative</th>\n",
              "      <th>SMA_relative</th>\n",
              "      <th>WMA_relative</th>\n",
              "      <th>MACD</th>\n",
              "      <th>MACD_relative</th>\n",
              "      <th>...</th>\n",
              "      <th>Bollinger_signal</th>\n",
              "      <th>ichimoku_c_conversion_line</th>\n",
              "      <th>ichimoku_c_base_line</th>\n",
              "      <th>ichimoku_c_leading_span_a</th>\n",
              "      <th>ichimoku_c_leading_span_b</th>\n",
              "      <th>ichimoku_c_signal</th>\n",
              "      <th>SAR_relative</th>\n",
              "      <th>s&amp;p_move_15m</th>\n",
              "      <th>result</th>\n",
              "      <th>id</th>\n",
              "    </tr>\n",
              "  </thead>\n",
              "  <tbody>\n",
              "    <tr>\n",
              "      <th>0</th>\n",
              "      <td>BigStock</td>\n",
              "      <td>60.176991</td>\n",
              "      <td>Hold</td>\n",
              "      <td>0.001340</td>\n",
              "      <td>0.999133</td>\n",
              "      <td>0.998415</td>\n",
              "      <td>0.158790</td>\n",
              "      <td>0.000696</td>\n",
              "      <td>0.000654</td>\n",
              "      <td>0.000990</td>\n",
              "      <td>...</td>\n",
              "      <td>Hold</td>\n",
              "      <td>-0.166616</td>\n",
              "      <td>-0.181763</td>\n",
              "      <td>-0.602090</td>\n",
              "      <td>-0.446834</td>\n",
              "      <td>Sell</td>\n",
              "      <td>-0.136418</td>\n",
              "      <td>0.252291</td>\n",
              "      <td>2.0</td>\n",
              "      <td>573919.0</td>\n",
              "    </tr>\n",
              "    <tr>\n",
              "      <th>1</th>\n",
              "      <td>HeroStocks</td>\n",
              "      <td>30.000000</td>\n",
              "      <td>Buy</td>\n",
              "      <td>0.009333</td>\n",
              "      <td>0.999927</td>\n",
              "      <td>0.999907</td>\n",
              "      <td>0.009270</td>\n",
              "      <td>0.000069</td>\n",
              "      <td>-0.007056</td>\n",
              "      <td>-0.000058</td>\n",
              "      <td>...</td>\n",
              "      <td>Hold</td>\n",
              "      <td>-0.012268</td>\n",
              "      <td>-0.024536</td>\n",
              "      <td>-0.292386</td>\n",
              "      <td>-0.155394</td>\n",
              "      <td>Sell</td>\n",
              "      <td>-0.006776</td>\n",
              "      <td>0.062449</td>\n",
              "      <td>2.0</td>\n",
              "      <td>292589.0</td>\n",
              "    </tr>\n",
              "    <tr>\n",
              "      <th>2</th>\n",
              "      <td>OkayFinance</td>\n",
              "      <td>45.454545</td>\n",
              "      <td>Hold</td>\n",
              "      <td>0.000107</td>\n",
              "      <td>0.998123</td>\n",
              "      <td>0.997812</td>\n",
              "      <td>0.219298</td>\n",
              "      <td>0.001863</td>\n",
              "      <td>-0.000028</td>\n",
              "      <td>-0.000611</td>\n",
              "      <td>...</td>\n",
              "      <td>Hold</td>\n",
              "      <td>-0.328228</td>\n",
              "      <td>-0.109409</td>\n",
              "      <td>0.109409</td>\n",
              "      <td>-0.656455</td>\n",
              "      <td>Buy</td>\n",
              "      <td>-0.143955</td>\n",
              "      <td>0.616755</td>\n",
              "      <td>1.0</td>\n",
              "      <td>80399.0</td>\n",
              "    </tr>\n",
              "    <tr>\n",
              "      <th>3</th>\n",
              "      <td>BubbleStocks</td>\n",
              "      <td>61.111111</td>\n",
              "      <td>Hold</td>\n",
              "      <td>0.000207</td>\n",
              "      <td>0.998539</td>\n",
              "      <td>0.998178</td>\n",
              "      <td>0.182580</td>\n",
              "      <td>0.001528</td>\n",
              "      <td>0.000053</td>\n",
              "      <td>0.000260</td>\n",
              "      <td>...</td>\n",
              "      <td>Hold</td>\n",
              "      <td>-0.231877</td>\n",
              "      <td>-0.183061</td>\n",
              "      <td>-0.170857</td>\n",
              "      <td>-0.414938</td>\n",
              "      <td>Buy</td>\n",
              "      <td>-0.192382</td>\n",
              "      <td>0.343096</td>\n",
              "      <td>1.0</td>\n",
              "      <td>109870.0</td>\n",
              "    </tr>\n",
              "    <tr>\n",
              "      <th>4</th>\n",
              "      <td>OkayFinance</td>\n",
              "      <td>66.666667</td>\n",
              "      <td>Hold</td>\n",
              "      <td>0.192000</td>\n",
              "      <td>0.998542</td>\n",
              "      <td>0.998191</td>\n",
              "      <td>0.181218</td>\n",
              "      <td>0.001477</td>\n",
              "      <td>0.140812</td>\n",
              "      <td>0.001585</td>\n",
              "      <td>...</td>\n",
              "      <td>Hold</td>\n",
              "      <td>-0.140734</td>\n",
              "      <td>-0.613601</td>\n",
              "      <td>-0.529160</td>\n",
              "      <td>1.339788</td>\n",
              "      <td>Sell</td>\n",
              "      <td>-0.199855</td>\n",
              "      <td>-0.352336</td>\n",
              "      <td>2.0</td>\n",
              "      <td>289641.0</td>\n",
              "    </tr>\n",
              "  </tbody>\n",
              "</table>\n",
              "<p>5 rows × 40 columns</p>\n",
              "</div>\n",
              "      <button class=\"colab-df-convert\" onclick=\"convertToInteractive('df-a621c20c-cd4e-4a94-8edb-4e7cd9dd93ec')\"\n",
              "              title=\"Convert this dataframe to an interactive table.\"\n",
              "              style=\"display:none;\">\n",
              "        \n",
              "  <svg xmlns=\"http://www.w3.org/2000/svg\" height=\"24px\"viewBox=\"0 0 24 24\"\n",
              "       width=\"24px\">\n",
              "    <path d=\"M0 0h24v24H0V0z\" fill=\"none\"/>\n",
              "    <path d=\"M18.56 5.44l.94 2.06.94-2.06 2.06-.94-2.06-.94-.94-2.06-.94 2.06-2.06.94zm-11 1L8.5 8.5l.94-2.06 2.06-.94-2.06-.94L8.5 2.5l-.94 2.06-2.06.94zm10 10l.94 2.06.94-2.06 2.06-.94-2.06-.94-.94-2.06-.94 2.06-2.06.94z\"/><path d=\"M17.41 7.96l-1.37-1.37c-.4-.4-.92-.59-1.43-.59-.52 0-1.04.2-1.43.59L10.3 9.45l-7.72 7.72c-.78.78-.78 2.05 0 2.83L4 21.41c.39.39.9.59 1.41.59.51 0 1.02-.2 1.41-.59l7.78-7.78 2.81-2.81c.8-.78.8-2.07 0-2.86zM5.41 20L4 18.59l7.72-7.72 1.47 1.35L5.41 20z\"/>\n",
              "  </svg>\n",
              "      </button>\n",
              "      \n",
              "  <style>\n",
              "    .colab-df-container {\n",
              "      display:flex;\n",
              "      flex-wrap:wrap;\n",
              "      gap: 12px;\n",
              "    }\n",
              "\n",
              "    .colab-df-convert {\n",
              "      background-color: #E8F0FE;\n",
              "      border: none;\n",
              "      border-radius: 50%;\n",
              "      cursor: pointer;\n",
              "      display: none;\n",
              "      fill: #1967D2;\n",
              "      height: 32px;\n",
              "      padding: 0 0 0 0;\n",
              "      width: 32px;\n",
              "    }\n",
              "\n",
              "    .colab-df-convert:hover {\n",
              "      background-color: #E2EBFA;\n",
              "      box-shadow: 0px 1px 2px rgba(60, 64, 67, 0.3), 0px 1px 3px 1px rgba(60, 64, 67, 0.15);\n",
              "      fill: #174EA6;\n",
              "    }\n",
              "\n",
              "    [theme=dark] .colab-df-convert {\n",
              "      background-color: #3B4455;\n",
              "      fill: #D2E3FC;\n",
              "    }\n",
              "\n",
              "    [theme=dark] .colab-df-convert:hover {\n",
              "      background-color: #434B5C;\n",
              "      box-shadow: 0px 1px 3px 1px rgba(0, 0, 0, 0.15);\n",
              "      filter: drop-shadow(0px 1px 2px rgba(0, 0, 0, 0.3));\n",
              "      fill: #FFFFFF;\n",
              "    }\n",
              "  </style>\n",
              "\n",
              "      <script>\n",
              "        const buttonEl =\n",
              "          document.querySelector('#df-a621c20c-cd4e-4a94-8edb-4e7cd9dd93ec button.colab-df-convert');\n",
              "        buttonEl.style.display =\n",
              "          google.colab.kernel.accessAllowed ? 'block' : 'none';\n",
              "\n",
              "        async function convertToInteractive(key) {\n",
              "          const element = document.querySelector('#df-a621c20c-cd4e-4a94-8edb-4e7cd9dd93ec');\n",
              "          const dataTable =\n",
              "            await google.colab.kernel.invokeFunction('convertToInteractive',\n",
              "                                                     [key], {});\n",
              "          if (!dataTable) return;\n",
              "\n",
              "          const docLinkHtml = 'Like what you see? Visit the ' +\n",
              "            '<a target=\"_blank\" href=https://colab.research.google.com/notebooks/data_table.ipynb>data table notebook</a>'\n",
              "            + ' to learn more about interactive tables.';\n",
              "          element.innerHTML = '';\n",
              "          dataTable['output_type'] = 'display_data';\n",
              "          await google.colab.output.renderOutput(dataTable, element);\n",
              "          const docLink = document.createElement('div');\n",
              "          docLink.innerHTML = docLinkHtml;\n",
              "          element.appendChild(docLink);\n",
              "        }\n",
              "      </script>\n",
              "    </div>\n",
              "  </div>\n",
              "  "
            ]
          },
          "metadata": {},
          "execution_count": 452
        }
      ]
    },
    {
      "cell_type": "markdown",
      "source": [
        "## Encoding all categorical columns using Label Encoder\n"
      ],
      "metadata": {
        "id": "Tz_3XbTppvtp"
      }
    },
    {
      "cell_type": "code",
      "source": [
        "from sklearn.preprocessing import LabelEncoder\n",
        "\n",
        "# Creating a instance of label Encoder.\n",
        "le = LabelEncoder()\n",
        "\n",
        "# Using .fit_transform function to fit label\n",
        "# encoder and return encoded label\n",
        "label = le.fit_transform(df['exchange'])"
      ],
      "metadata": {
        "id": "ZJYjBsnrMleI"
      },
      "execution_count": 453,
      "outputs": []
    },
    {
      "cell_type": "code",
      "source": [
        "df.drop(\"exchange\", axis=1, inplace=True)\n",
        "\n",
        "# Appending the array to our dataFrame\n",
        "# with column name 'Purchased'\n",
        "df[\"exchange\"] = label"
      ],
      "metadata": {
        "id": "OBIlHGwGNuqZ"
      },
      "execution_count": 454,
      "outputs": []
    },
    {
      "cell_type": "code",
      "source": [
        "df.head()"
      ],
      "metadata": {
        "colab": {
          "base_uri": "https://localhost:8080/",
          "height": 299
        },
        "id": "Y0lb0oxpNwNE",
        "outputId": "ae6e5579-c466-401d-9f54-dd26522c31de"
      },
      "execution_count": 455,
      "outputs": [
        {
          "output_type": "execute_result",
          "data": {
            "text/plain": [
              "         RSI RSI_signal       ATR  EMA_relative  MA_relative  SMA_relative  \\\n",
              "0  60.176991       Hold  0.001340      0.999133     0.998415      0.158790   \n",
              "1  30.000000        Buy  0.009333      0.999927     0.999907      0.009270   \n",
              "2  45.454545       Hold  0.000107      0.998123     0.997812      0.219298   \n",
              "3  61.111111       Hold  0.000207      0.998539     0.998178      0.182580   \n",
              "4  66.666667       Hold  0.192000      0.998542     0.998191      0.181218   \n",
              "\n",
              "   WMA_relative      MACD  MACD_relative  MACD_relative_signal  ...  \\\n",
              "0      0.000696  0.000654       0.000990              0.999974  ...   \n",
              "1      0.000069 -0.007056      -0.000058              0.999981  ...   \n",
              "2      0.001863 -0.000028      -0.000611              0.998942  ...   \n",
              "3      0.001528  0.000053       0.000260              0.998953  ...   \n",
              "4      0.001477  0.140812       0.001585              0.998712  ...   \n",
              "\n",
              "   ichimoku_c_conversion_line  ichimoku_c_base_line  \\\n",
              "0                   -0.166616             -0.181763   \n",
              "1                   -0.012268             -0.024536   \n",
              "2                   -0.328228             -0.109409   \n",
              "3                   -0.231877             -0.183061   \n",
              "4                   -0.140734             -0.613601   \n",
              "\n",
              "   ichimoku_c_leading_span_a  ichimoku_c_leading_span_b  ichimoku_c_signal  \\\n",
              "0                  -0.602090                  -0.446834               Sell   \n",
              "1                  -0.292386                  -0.155394               Sell   \n",
              "2                   0.109409                  -0.656455                Buy   \n",
              "3                  -0.170857                  -0.414938                Buy   \n",
              "4                  -0.529160                   1.339788               Sell   \n",
              "\n",
              "   SAR_relative s&p_move_15m  result        id  exchange  \n",
              "0     -0.136418     0.252291     2.0  573919.0         0  \n",
              "1     -0.006776     0.062449     2.0  292589.0         2  \n",
              "2     -0.143955     0.616755     1.0   80399.0         3  \n",
              "3     -0.192382     0.343096     1.0  109870.0         1  \n",
              "4     -0.199855    -0.352336     2.0  289641.0         3  \n",
              "\n",
              "[5 rows x 40 columns]"
            ],
            "text/html": [
              "\n",
              "  <div id=\"df-74518628-5526-48a9-a602-4bbf3f3baaee\">\n",
              "    <div class=\"colab-df-container\">\n",
              "      <div>\n",
              "<style scoped>\n",
              "    .dataframe tbody tr th:only-of-type {\n",
              "        vertical-align: middle;\n",
              "    }\n",
              "\n",
              "    .dataframe tbody tr th {\n",
              "        vertical-align: top;\n",
              "    }\n",
              "\n",
              "    .dataframe thead th {\n",
              "        text-align: right;\n",
              "    }\n",
              "</style>\n",
              "<table border=\"1\" class=\"dataframe\">\n",
              "  <thead>\n",
              "    <tr style=\"text-align: right;\">\n",
              "      <th></th>\n",
              "      <th>RSI</th>\n",
              "      <th>RSI_signal</th>\n",
              "      <th>ATR</th>\n",
              "      <th>EMA_relative</th>\n",
              "      <th>MA_relative</th>\n",
              "      <th>SMA_relative</th>\n",
              "      <th>WMA_relative</th>\n",
              "      <th>MACD</th>\n",
              "      <th>MACD_relative</th>\n",
              "      <th>MACD_relative_signal</th>\n",
              "      <th>...</th>\n",
              "      <th>ichimoku_c_conversion_line</th>\n",
              "      <th>ichimoku_c_base_line</th>\n",
              "      <th>ichimoku_c_leading_span_a</th>\n",
              "      <th>ichimoku_c_leading_span_b</th>\n",
              "      <th>ichimoku_c_signal</th>\n",
              "      <th>SAR_relative</th>\n",
              "      <th>s&amp;p_move_15m</th>\n",
              "      <th>result</th>\n",
              "      <th>id</th>\n",
              "      <th>exchange</th>\n",
              "    </tr>\n",
              "  </thead>\n",
              "  <tbody>\n",
              "    <tr>\n",
              "      <th>0</th>\n",
              "      <td>60.176991</td>\n",
              "      <td>Hold</td>\n",
              "      <td>0.001340</td>\n",
              "      <td>0.999133</td>\n",
              "      <td>0.998415</td>\n",
              "      <td>0.158790</td>\n",
              "      <td>0.000696</td>\n",
              "      <td>0.000654</td>\n",
              "      <td>0.000990</td>\n",
              "      <td>0.999974</td>\n",
              "      <td>...</td>\n",
              "      <td>-0.166616</td>\n",
              "      <td>-0.181763</td>\n",
              "      <td>-0.602090</td>\n",
              "      <td>-0.446834</td>\n",
              "      <td>Sell</td>\n",
              "      <td>-0.136418</td>\n",
              "      <td>0.252291</td>\n",
              "      <td>2.0</td>\n",
              "      <td>573919.0</td>\n",
              "      <td>0</td>\n",
              "    </tr>\n",
              "    <tr>\n",
              "      <th>1</th>\n",
              "      <td>30.000000</td>\n",
              "      <td>Buy</td>\n",
              "      <td>0.009333</td>\n",
              "      <td>0.999927</td>\n",
              "      <td>0.999907</td>\n",
              "      <td>0.009270</td>\n",
              "      <td>0.000069</td>\n",
              "      <td>-0.007056</td>\n",
              "      <td>-0.000058</td>\n",
              "      <td>0.999981</td>\n",
              "      <td>...</td>\n",
              "      <td>-0.012268</td>\n",
              "      <td>-0.024536</td>\n",
              "      <td>-0.292386</td>\n",
              "      <td>-0.155394</td>\n",
              "      <td>Sell</td>\n",
              "      <td>-0.006776</td>\n",
              "      <td>0.062449</td>\n",
              "      <td>2.0</td>\n",
              "      <td>292589.0</td>\n",
              "      <td>2</td>\n",
              "    </tr>\n",
              "    <tr>\n",
              "      <th>2</th>\n",
              "      <td>45.454545</td>\n",
              "      <td>Hold</td>\n",
              "      <td>0.000107</td>\n",
              "      <td>0.998123</td>\n",
              "      <td>0.997812</td>\n",
              "      <td>0.219298</td>\n",
              "      <td>0.001863</td>\n",
              "      <td>-0.000028</td>\n",
              "      <td>-0.000611</td>\n",
              "      <td>0.998942</td>\n",
              "      <td>...</td>\n",
              "      <td>-0.328228</td>\n",
              "      <td>-0.109409</td>\n",
              "      <td>0.109409</td>\n",
              "      <td>-0.656455</td>\n",
              "      <td>Buy</td>\n",
              "      <td>-0.143955</td>\n",
              "      <td>0.616755</td>\n",
              "      <td>1.0</td>\n",
              "      <td>80399.0</td>\n",
              "      <td>3</td>\n",
              "    </tr>\n",
              "    <tr>\n",
              "      <th>3</th>\n",
              "      <td>61.111111</td>\n",
              "      <td>Hold</td>\n",
              "      <td>0.000207</td>\n",
              "      <td>0.998539</td>\n",
              "      <td>0.998178</td>\n",
              "      <td>0.182580</td>\n",
              "      <td>0.001528</td>\n",
              "      <td>0.000053</td>\n",
              "      <td>0.000260</td>\n",
              "      <td>0.998953</td>\n",
              "      <td>...</td>\n",
              "      <td>-0.231877</td>\n",
              "      <td>-0.183061</td>\n",
              "      <td>-0.170857</td>\n",
              "      <td>-0.414938</td>\n",
              "      <td>Buy</td>\n",
              "      <td>-0.192382</td>\n",
              "      <td>0.343096</td>\n",
              "      <td>1.0</td>\n",
              "      <td>109870.0</td>\n",
              "      <td>1</td>\n",
              "    </tr>\n",
              "    <tr>\n",
              "      <th>4</th>\n",
              "      <td>66.666667</td>\n",
              "      <td>Hold</td>\n",
              "      <td>0.192000</td>\n",
              "      <td>0.998542</td>\n",
              "      <td>0.998191</td>\n",
              "      <td>0.181218</td>\n",
              "      <td>0.001477</td>\n",
              "      <td>0.140812</td>\n",
              "      <td>0.001585</td>\n",
              "      <td>0.998712</td>\n",
              "      <td>...</td>\n",
              "      <td>-0.140734</td>\n",
              "      <td>-0.613601</td>\n",
              "      <td>-0.529160</td>\n",
              "      <td>1.339788</td>\n",
              "      <td>Sell</td>\n",
              "      <td>-0.199855</td>\n",
              "      <td>-0.352336</td>\n",
              "      <td>2.0</td>\n",
              "      <td>289641.0</td>\n",
              "      <td>3</td>\n",
              "    </tr>\n",
              "  </tbody>\n",
              "</table>\n",
              "<p>5 rows × 40 columns</p>\n",
              "</div>\n",
              "      <button class=\"colab-df-convert\" onclick=\"convertToInteractive('df-74518628-5526-48a9-a602-4bbf3f3baaee')\"\n",
              "              title=\"Convert this dataframe to an interactive table.\"\n",
              "              style=\"display:none;\">\n",
              "        \n",
              "  <svg xmlns=\"http://www.w3.org/2000/svg\" height=\"24px\"viewBox=\"0 0 24 24\"\n",
              "       width=\"24px\">\n",
              "    <path d=\"M0 0h24v24H0V0z\" fill=\"none\"/>\n",
              "    <path d=\"M18.56 5.44l.94 2.06.94-2.06 2.06-.94-2.06-.94-.94-2.06-.94 2.06-2.06.94zm-11 1L8.5 8.5l.94-2.06 2.06-.94-2.06-.94L8.5 2.5l-.94 2.06-2.06.94zm10 10l.94 2.06.94-2.06 2.06-.94-2.06-.94-.94-2.06-.94 2.06-2.06.94z\"/><path d=\"M17.41 7.96l-1.37-1.37c-.4-.4-.92-.59-1.43-.59-.52 0-1.04.2-1.43.59L10.3 9.45l-7.72 7.72c-.78.78-.78 2.05 0 2.83L4 21.41c.39.39.9.59 1.41.59.51 0 1.02-.2 1.41-.59l7.78-7.78 2.81-2.81c.8-.78.8-2.07 0-2.86zM5.41 20L4 18.59l7.72-7.72 1.47 1.35L5.41 20z\"/>\n",
              "  </svg>\n",
              "      </button>\n",
              "      \n",
              "  <style>\n",
              "    .colab-df-container {\n",
              "      display:flex;\n",
              "      flex-wrap:wrap;\n",
              "      gap: 12px;\n",
              "    }\n",
              "\n",
              "    .colab-df-convert {\n",
              "      background-color: #E8F0FE;\n",
              "      border: none;\n",
              "      border-radius: 50%;\n",
              "      cursor: pointer;\n",
              "      display: none;\n",
              "      fill: #1967D2;\n",
              "      height: 32px;\n",
              "      padding: 0 0 0 0;\n",
              "      width: 32px;\n",
              "    }\n",
              "\n",
              "    .colab-df-convert:hover {\n",
              "      background-color: #E2EBFA;\n",
              "      box-shadow: 0px 1px 2px rgba(60, 64, 67, 0.3), 0px 1px 3px 1px rgba(60, 64, 67, 0.15);\n",
              "      fill: #174EA6;\n",
              "    }\n",
              "\n",
              "    [theme=dark] .colab-df-convert {\n",
              "      background-color: #3B4455;\n",
              "      fill: #D2E3FC;\n",
              "    }\n",
              "\n",
              "    [theme=dark] .colab-df-convert:hover {\n",
              "      background-color: #434B5C;\n",
              "      box-shadow: 0px 1px 3px 1px rgba(0, 0, 0, 0.15);\n",
              "      filter: drop-shadow(0px 1px 2px rgba(0, 0, 0, 0.3));\n",
              "      fill: #FFFFFF;\n",
              "    }\n",
              "  </style>\n",
              "\n",
              "      <script>\n",
              "        const buttonEl =\n",
              "          document.querySelector('#df-74518628-5526-48a9-a602-4bbf3f3baaee button.colab-df-convert');\n",
              "        buttonEl.style.display =\n",
              "          google.colab.kernel.accessAllowed ? 'block' : 'none';\n",
              "\n",
              "        async function convertToInteractive(key) {\n",
              "          const element = document.querySelector('#df-74518628-5526-48a9-a602-4bbf3f3baaee');\n",
              "          const dataTable =\n",
              "            await google.colab.kernel.invokeFunction('convertToInteractive',\n",
              "                                                     [key], {});\n",
              "          if (!dataTable) return;\n",
              "\n",
              "          const docLinkHtml = 'Like what you see? Visit the ' +\n",
              "            '<a target=\"_blank\" href=https://colab.research.google.com/notebooks/data_table.ipynb>data table notebook</a>'\n",
              "            + ' to learn more about interactive tables.';\n",
              "          element.innerHTML = '';\n",
              "          dataTable['output_type'] = 'display_data';\n",
              "          await google.colab.output.renderOutput(dataTable, element);\n",
              "          const docLink = document.createElement('div');\n",
              "          docLink.innerHTML = docLinkHtml;\n",
              "          element.appendChild(docLink);\n",
              "        }\n",
              "      </script>\n",
              "    </div>\n",
              "  </div>\n",
              "  "
            ]
          },
          "metadata": {},
          "execution_count": 455
        }
      ]
    },
    {
      "cell_type": "code",
      "source": [
        "from sklearn.preprocessing import LabelEncoder\n",
        "le2 = LabelEncoder()\n",
        "label = le2.fit_transform(df['RSI_signal'])\n",
        "df.drop(\"RSI_signal\", axis=1, inplace=True)\n",
        "df[\"RSI_signal\"] = label"
      ],
      "metadata": {
        "id": "-rBgKdwwOH8p"
      },
      "execution_count": 456,
      "outputs": []
    },
    {
      "cell_type": "code",
      "source": [
        "from sklearn.preprocessing import LabelEncoder\n",
        "le2 = LabelEncoder()\n",
        "label = le2.fit_transform(df['Stoch_O_signal'])\n",
        "df.drop(\"Stoch_O_signal\", axis=1, inplace=True)\n",
        "df[\"Stoch_O_signal\"] = label"
      ],
      "metadata": {
        "id": "0UN1eUK3OfVw"
      },
      "execution_count": 457,
      "outputs": []
    },
    {
      "cell_type": "code",
      "source": [
        "from sklearn.preprocessing import LabelEncoder\n",
        "le2 = LabelEncoder()\n",
        "label = le2.fit_transform(df['ichimoku_c_signal'])\n",
        "df.drop(\"ichimoku_c_signal\", axis=1, inplace=True)\n",
        "df[\"ichimoku_c_signal\"] = label"
      ],
      "metadata": {
        "id": "YoI2ZdPTOkOw"
      },
      "execution_count": 458,
      "outputs": []
    },
    {
      "cell_type": "code",
      "source": [
        "from sklearn.preprocessing import LabelEncoder\n",
        "le2 = LabelEncoder()\n",
        "label = le2.fit_transform(df['fibonacci_signal'])\n",
        "df.drop(\"fibonacci_signal\", axis=1, inplace=True)\n",
        "df[\"fibonacci_signal\"] = label"
      ],
      "metadata": {
        "id": "DOTcxLMoO1J5"
      },
      "execution_count": 459,
      "outputs": []
    },
    {
      "cell_type": "code",
      "source": [
        "from sklearn.preprocessing import LabelEncoder\n",
        "le2 = LabelEncoder()\n",
        "label = le2.fit_transform(df['Bollinger_signal'])\n",
        "df.drop(\"Bollinger_signal\", axis=1, inplace=True)\n",
        "df[\"Bollinger_signal\"] = label"
      ],
      "metadata": {
        "id": "5Np5IX0UOqDp"
      },
      "execution_count": 460,
      "outputs": []
    },
    {
      "cell_type": "code",
      "source": [
        "df.head()"
      ],
      "metadata": {
        "colab": {
          "base_uri": "https://localhost:8080/",
          "height": 299
        },
        "id": "p0FchYnKO8I6",
        "outputId": "78a6f3a2-20bc-46ba-89be-399772c2c9c7"
      },
      "execution_count": 461,
      "outputs": [
        {
          "output_type": "execute_result",
          "data": {
            "text/plain": [
              "         RSI       ATR  EMA_relative  MA_relative  SMA_relative  WMA_relative  \\\n",
              "0  60.176991  0.001340      0.999133     0.998415      0.158790      0.000696   \n",
              "1  30.000000  0.009333      0.999927     0.999907      0.009270      0.000069   \n",
              "2  45.454545  0.000107      0.998123     0.997812      0.219298      0.001863   \n",
              "3  61.111111  0.000207      0.998539     0.998178      0.182580      0.001528   \n",
              "4  66.666667  0.192000      0.998542     0.998191      0.181218      0.001477   \n",
              "\n",
              "       MACD  MACD_relative  MACD_relative_signal  MACD_relative_histogram  \\\n",
              "0  0.000654       0.000990              0.999974                -0.998984   \n",
              "1 -0.007056      -0.000058              0.999981                -1.000038   \n",
              "2 -0.000028      -0.000611              0.998942                -0.999553   \n",
              "3  0.000053       0.000260              0.998953                -0.998693   \n",
              "4  0.140812       0.001585              0.998712                -0.997127   \n",
              "\n",
              "   ...  SAR_relative  s&p_move_15m  result        id  exchange  RSI_signal  \\\n",
              "0  ...     -0.136418      0.252291     2.0  573919.0         0           1   \n",
              "1  ...     -0.006776      0.062449     2.0  292589.0         2           0   \n",
              "2  ...     -0.143955      0.616755     1.0   80399.0         3           1   \n",
              "3  ...     -0.192382      0.343096     1.0  109870.0         1           1   \n",
              "4  ...     -0.199855     -0.352336     2.0  289641.0         3           1   \n",
              "\n",
              "   Stoch_O_signal  ichimoku_c_signal  fibonacci_signal  Bollinger_signal  \n",
              "0               2                  2                 0                 1  \n",
              "1               0                  2                 0                 1  \n",
              "2               2                  0                 0                 1  \n",
              "3               2                  0                 0                 1  \n",
              "4               2                  2                 0                 1  \n",
              "\n",
              "[5 rows x 40 columns]"
            ],
            "text/html": [
              "\n",
              "  <div id=\"df-bb830c42-a845-4f79-a883-c57a7cbcb0d1\">\n",
              "    <div class=\"colab-df-container\">\n",
              "      <div>\n",
              "<style scoped>\n",
              "    .dataframe tbody tr th:only-of-type {\n",
              "        vertical-align: middle;\n",
              "    }\n",
              "\n",
              "    .dataframe tbody tr th {\n",
              "        vertical-align: top;\n",
              "    }\n",
              "\n",
              "    .dataframe thead th {\n",
              "        text-align: right;\n",
              "    }\n",
              "</style>\n",
              "<table border=\"1\" class=\"dataframe\">\n",
              "  <thead>\n",
              "    <tr style=\"text-align: right;\">\n",
              "      <th></th>\n",
              "      <th>RSI</th>\n",
              "      <th>ATR</th>\n",
              "      <th>EMA_relative</th>\n",
              "      <th>MA_relative</th>\n",
              "      <th>SMA_relative</th>\n",
              "      <th>WMA_relative</th>\n",
              "      <th>MACD</th>\n",
              "      <th>MACD_relative</th>\n",
              "      <th>MACD_relative_signal</th>\n",
              "      <th>MACD_relative_histogram</th>\n",
              "      <th>...</th>\n",
              "      <th>SAR_relative</th>\n",
              "      <th>s&amp;p_move_15m</th>\n",
              "      <th>result</th>\n",
              "      <th>id</th>\n",
              "      <th>exchange</th>\n",
              "      <th>RSI_signal</th>\n",
              "      <th>Stoch_O_signal</th>\n",
              "      <th>ichimoku_c_signal</th>\n",
              "      <th>fibonacci_signal</th>\n",
              "      <th>Bollinger_signal</th>\n",
              "    </tr>\n",
              "  </thead>\n",
              "  <tbody>\n",
              "    <tr>\n",
              "      <th>0</th>\n",
              "      <td>60.176991</td>\n",
              "      <td>0.001340</td>\n",
              "      <td>0.999133</td>\n",
              "      <td>0.998415</td>\n",
              "      <td>0.158790</td>\n",
              "      <td>0.000696</td>\n",
              "      <td>0.000654</td>\n",
              "      <td>0.000990</td>\n",
              "      <td>0.999974</td>\n",
              "      <td>-0.998984</td>\n",
              "      <td>...</td>\n",
              "      <td>-0.136418</td>\n",
              "      <td>0.252291</td>\n",
              "      <td>2.0</td>\n",
              "      <td>573919.0</td>\n",
              "      <td>0</td>\n",
              "      <td>1</td>\n",
              "      <td>2</td>\n",
              "      <td>2</td>\n",
              "      <td>0</td>\n",
              "      <td>1</td>\n",
              "    </tr>\n",
              "    <tr>\n",
              "      <th>1</th>\n",
              "      <td>30.000000</td>\n",
              "      <td>0.009333</td>\n",
              "      <td>0.999927</td>\n",
              "      <td>0.999907</td>\n",
              "      <td>0.009270</td>\n",
              "      <td>0.000069</td>\n",
              "      <td>-0.007056</td>\n",
              "      <td>-0.000058</td>\n",
              "      <td>0.999981</td>\n",
              "      <td>-1.000038</td>\n",
              "      <td>...</td>\n",
              "      <td>-0.006776</td>\n",
              "      <td>0.062449</td>\n",
              "      <td>2.0</td>\n",
              "      <td>292589.0</td>\n",
              "      <td>2</td>\n",
              "      <td>0</td>\n",
              "      <td>0</td>\n",
              "      <td>2</td>\n",
              "      <td>0</td>\n",
              "      <td>1</td>\n",
              "    </tr>\n",
              "    <tr>\n",
              "      <th>2</th>\n",
              "      <td>45.454545</td>\n",
              "      <td>0.000107</td>\n",
              "      <td>0.998123</td>\n",
              "      <td>0.997812</td>\n",
              "      <td>0.219298</td>\n",
              "      <td>0.001863</td>\n",
              "      <td>-0.000028</td>\n",
              "      <td>-0.000611</td>\n",
              "      <td>0.998942</td>\n",
              "      <td>-0.999553</td>\n",
              "      <td>...</td>\n",
              "      <td>-0.143955</td>\n",
              "      <td>0.616755</td>\n",
              "      <td>1.0</td>\n",
              "      <td>80399.0</td>\n",
              "      <td>3</td>\n",
              "      <td>1</td>\n",
              "      <td>2</td>\n",
              "      <td>0</td>\n",
              "      <td>0</td>\n",
              "      <td>1</td>\n",
              "    </tr>\n",
              "    <tr>\n",
              "      <th>3</th>\n",
              "      <td>61.111111</td>\n",
              "      <td>0.000207</td>\n",
              "      <td>0.998539</td>\n",
              "      <td>0.998178</td>\n",
              "      <td>0.182580</td>\n",
              "      <td>0.001528</td>\n",
              "      <td>0.000053</td>\n",
              "      <td>0.000260</td>\n",
              "      <td>0.998953</td>\n",
              "      <td>-0.998693</td>\n",
              "      <td>...</td>\n",
              "      <td>-0.192382</td>\n",
              "      <td>0.343096</td>\n",
              "      <td>1.0</td>\n",
              "      <td>109870.0</td>\n",
              "      <td>1</td>\n",
              "      <td>1</td>\n",
              "      <td>2</td>\n",
              "      <td>0</td>\n",
              "      <td>0</td>\n",
              "      <td>1</td>\n",
              "    </tr>\n",
              "    <tr>\n",
              "      <th>4</th>\n",
              "      <td>66.666667</td>\n",
              "      <td>0.192000</td>\n",
              "      <td>0.998542</td>\n",
              "      <td>0.998191</td>\n",
              "      <td>0.181218</td>\n",
              "      <td>0.001477</td>\n",
              "      <td>0.140812</td>\n",
              "      <td>0.001585</td>\n",
              "      <td>0.998712</td>\n",
              "      <td>-0.997127</td>\n",
              "      <td>...</td>\n",
              "      <td>-0.199855</td>\n",
              "      <td>-0.352336</td>\n",
              "      <td>2.0</td>\n",
              "      <td>289641.0</td>\n",
              "      <td>3</td>\n",
              "      <td>1</td>\n",
              "      <td>2</td>\n",
              "      <td>2</td>\n",
              "      <td>0</td>\n",
              "      <td>1</td>\n",
              "    </tr>\n",
              "  </tbody>\n",
              "</table>\n",
              "<p>5 rows × 40 columns</p>\n",
              "</div>\n",
              "      <button class=\"colab-df-convert\" onclick=\"convertToInteractive('df-bb830c42-a845-4f79-a883-c57a7cbcb0d1')\"\n",
              "              title=\"Convert this dataframe to an interactive table.\"\n",
              "              style=\"display:none;\">\n",
              "        \n",
              "  <svg xmlns=\"http://www.w3.org/2000/svg\" height=\"24px\"viewBox=\"0 0 24 24\"\n",
              "       width=\"24px\">\n",
              "    <path d=\"M0 0h24v24H0V0z\" fill=\"none\"/>\n",
              "    <path d=\"M18.56 5.44l.94 2.06.94-2.06 2.06-.94-2.06-.94-.94-2.06-.94 2.06-2.06.94zm-11 1L8.5 8.5l.94-2.06 2.06-.94-2.06-.94L8.5 2.5l-.94 2.06-2.06.94zm10 10l.94 2.06.94-2.06 2.06-.94-2.06-.94-.94-2.06-.94 2.06-2.06.94z\"/><path d=\"M17.41 7.96l-1.37-1.37c-.4-.4-.92-.59-1.43-.59-.52 0-1.04.2-1.43.59L10.3 9.45l-7.72 7.72c-.78.78-.78 2.05 0 2.83L4 21.41c.39.39.9.59 1.41.59.51 0 1.02-.2 1.41-.59l7.78-7.78 2.81-2.81c.8-.78.8-2.07 0-2.86zM5.41 20L4 18.59l7.72-7.72 1.47 1.35L5.41 20z\"/>\n",
              "  </svg>\n",
              "      </button>\n",
              "      \n",
              "  <style>\n",
              "    .colab-df-container {\n",
              "      display:flex;\n",
              "      flex-wrap:wrap;\n",
              "      gap: 12px;\n",
              "    }\n",
              "\n",
              "    .colab-df-convert {\n",
              "      background-color: #E8F0FE;\n",
              "      border: none;\n",
              "      border-radius: 50%;\n",
              "      cursor: pointer;\n",
              "      display: none;\n",
              "      fill: #1967D2;\n",
              "      height: 32px;\n",
              "      padding: 0 0 0 0;\n",
              "      width: 32px;\n",
              "    }\n",
              "\n",
              "    .colab-df-convert:hover {\n",
              "      background-color: #E2EBFA;\n",
              "      box-shadow: 0px 1px 2px rgba(60, 64, 67, 0.3), 0px 1px 3px 1px rgba(60, 64, 67, 0.15);\n",
              "      fill: #174EA6;\n",
              "    }\n",
              "\n",
              "    [theme=dark] .colab-df-convert {\n",
              "      background-color: #3B4455;\n",
              "      fill: #D2E3FC;\n",
              "    }\n",
              "\n",
              "    [theme=dark] .colab-df-convert:hover {\n",
              "      background-color: #434B5C;\n",
              "      box-shadow: 0px 1px 3px 1px rgba(0, 0, 0, 0.15);\n",
              "      filter: drop-shadow(0px 1px 2px rgba(0, 0, 0, 0.3));\n",
              "      fill: #FFFFFF;\n",
              "    }\n",
              "  </style>\n",
              "\n",
              "      <script>\n",
              "        const buttonEl =\n",
              "          document.querySelector('#df-bb830c42-a845-4f79-a883-c57a7cbcb0d1 button.colab-df-convert');\n",
              "        buttonEl.style.display =\n",
              "          google.colab.kernel.accessAllowed ? 'block' : 'none';\n",
              "\n",
              "        async function convertToInteractive(key) {\n",
              "          const element = document.querySelector('#df-bb830c42-a845-4f79-a883-c57a7cbcb0d1');\n",
              "          const dataTable =\n",
              "            await google.colab.kernel.invokeFunction('convertToInteractive',\n",
              "                                                     [key], {});\n",
              "          if (!dataTable) return;\n",
              "\n",
              "          const docLinkHtml = 'Like what you see? Visit the ' +\n",
              "            '<a target=\"_blank\" href=https://colab.research.google.com/notebooks/data_table.ipynb>data table notebook</a>'\n",
              "            + ' to learn more about interactive tables.';\n",
              "          element.innerHTML = '';\n",
              "          dataTable['output_type'] = 'display_data';\n",
              "          await google.colab.output.renderOutput(dataTable, element);\n",
              "          const docLink = document.createElement('div');\n",
              "          docLink.innerHTML = docLinkHtml;\n",
              "          element.appendChild(docLink);\n",
              "        }\n",
              "      </script>\n",
              "    </div>\n",
              "  </div>\n",
              "  "
            ]
          },
          "metadata": {},
          "execution_count": 461
        }
      ]
    },
    {
      "cell_type": "code",
      "source": [
        "df.info()"
      ],
      "metadata": {
        "colab": {
          "base_uri": "https://localhost:8080/"
        },
        "id": "od2R5PF3PGML",
        "outputId": "c00a4856-c181-4b10-f9d0-9df354498210"
      },
      "execution_count": 462,
      "outputs": [
        {
          "output_type": "stream",
          "name": "stdout",
          "text": [
            "<class 'pandas.core.frame.DataFrame'>\n",
            "RangeIndex: 170567 entries, 0 to 170566\n",
            "Data columns (total 40 columns):\n",
            " #   Column                      Non-Null Count   Dtype  \n",
            "---  ------                      --------------   -----  \n",
            " 0   RSI                         170567 non-null  float64\n",
            " 1   ATR                         170567 non-null  float64\n",
            " 2   EMA_relative                170567 non-null  float64\n",
            " 3   MA_relative                 170567 non-null  float64\n",
            " 4   SMA_relative                170567 non-null  float64\n",
            " 5   WMA_relative                170567 non-null  float64\n",
            " 6   MACD                        170567 non-null  float64\n",
            " 7   MACD_relative               170567 non-null  float64\n",
            " 8   MACD_relative_signal        170567 non-null  float64\n",
            " 9   MACD_relative_histogram     170567 non-null  float64\n",
            " 10  ADX                         170567 non-null  float64\n",
            " 11  Stoch_O_k_value             170567 non-null  float64\n",
            " 12  Stoch_O_k_smoothed          170567 non-null  float64\n",
            " 13  Stoch_O_d_value             170567 non-null  float64\n",
            " 14  Stoch_O_signal_value        170567 non-null  float64\n",
            " 15  pivot_point                 170567 non-null  float64\n",
            " 16  pivot_support_1             170567 non-null  float64\n",
            " 17  pivot_resistance_1          170567 non-null  float64\n",
            " 18  pivot_support_2             170567 non-null  float64\n",
            " 19  pivot_resistance_2          170567 non-null  float64\n",
            " 20  pivot_support_3             170567 non-null  float64\n",
            " 21  pivot_resistance_3          170567 non-null  float64\n",
            " 22  VWAP_relative_short         170567 non-null  float64\n",
            " 23  VWAP_relative_long          170567 non-null  float64\n",
            " 24  Bollinger_upper_band        170567 non-null  float64\n",
            " 25  Bollinger_lower_band        170567 non-null  float64\n",
            " 26  ichimoku_c_conversion_line  170567 non-null  float64\n",
            " 27  ichimoku_c_base_line        170567 non-null  float64\n",
            " 28  ichimoku_c_leading_span_a   170567 non-null  float64\n",
            " 29  ichimoku_c_leading_span_b   170567 non-null  float64\n",
            " 30  SAR_relative                170567 non-null  float64\n",
            " 31  s&p_move_15m                170567 non-null  float64\n",
            " 32  result                      170567 non-null  float64\n",
            " 33  id                          170567 non-null  float64\n",
            " 34  exchange                    170567 non-null  int64  \n",
            " 35  RSI_signal                  170567 non-null  int64  \n",
            " 36  Stoch_O_signal              170567 non-null  int64  \n",
            " 37  ichimoku_c_signal           170567 non-null  int64  \n",
            " 38  fibonacci_signal            170567 non-null  int64  \n",
            " 39  Bollinger_signal            170567 non-null  int64  \n",
            "dtypes: float64(34), int64(6)\n",
            "memory usage: 52.1 MB\n"
          ]
        }
      ]
    },
    {
      "cell_type": "markdown",
      "source": [
        "# Splitting Data into X and y\n"
      ],
      "metadata": {
        "id": "hQSDpyl9p1m5"
      }
    },
    {
      "cell_type": "code",
      "source": [
        "y = df['result']\n"
      ],
      "metadata": {
        "id": "c6YyelzlPgNS"
      },
      "execution_count": 463,
      "outputs": []
    },
    {
      "cell_type": "code",
      "source": [
        "df.drop(['result'], inplace = True, axis = 1)"
      ],
      "metadata": {
        "id": "HbzhU0qcPgJ3"
      },
      "execution_count": 464,
      "outputs": []
    },
    {
      "cell_type": "markdown",
      "source": [
        "#Applying Feature Scaling"
      ],
      "metadata": {
        "id": "LdaGcuE0qB9L"
      }
    },
    {
      "cell_type": "code",
      "source": [
        "from sklearn import preprocessing\n",
        "scaler = preprocessing.StandardScaler()\n",
        "scaled_X = scaler.fit_transform(df)"
      ],
      "metadata": {
        "id": "TCaI55dqPIZe"
      },
      "execution_count": 465,
      "outputs": []
    },
    {
      "cell_type": "markdown",
      "source": [
        "#Splitting data into Test and Training set"
      ],
      "metadata": {
        "id": "F9t0G03Rp65v"
      }
    },
    {
      "cell_type": "code",
      "source": [
        "from sklearn.model_selection import train_test_split\n"
      ],
      "metadata": {
        "id": "KA7ZL6psPUrB"
      },
      "execution_count": 466,
      "outputs": []
    },
    {
      "cell_type": "code",
      "source": [
        "x_train, x_test, y_train, y_test = train_test_split(scaled_X, y , test_size = 0.1)"
      ],
      "metadata": {
        "id": "R10R-L4JPXUg"
      },
      "execution_count": 467,
      "outputs": []
    },
    {
      "cell_type": "markdown",
      "source": [
        "# Predicting the model using Logistic and Random Forest\n"
      ],
      "metadata": {
        "id": "Sa1u3CJIqIlW"
      }
    },
    {
      "cell_type": "code",
      "source": [
        "from sklearn.linear_model import LogisticRegression\n",
        "\n",
        "model=LogisticRegression()"
      ],
      "metadata": {
        "id": "JGWVfjUUPZoV"
      },
      "execution_count": 468,
      "outputs": []
    },
    {
      "cell_type": "code",
      "source": [
        "model.fit(x_train,y_train)\n"
      ],
      "metadata": {
        "colab": {
          "base_uri": "https://localhost:8080/",
          "height": 213
        },
        "id": "mOiZqg05PuB1",
        "outputId": "ee63cac6-5763-463a-b507-6285828609f0"
      },
      "execution_count": 469,
      "outputs": [
        {
          "output_type": "stream",
          "name": "stderr",
          "text": [
            "/usr/local/lib/python3.10/dist-packages/sklearn/linear_model/_logistic.py:458: ConvergenceWarning: lbfgs failed to converge (status=1):\n",
            "STOP: TOTAL NO. of ITERATIONS REACHED LIMIT.\n",
            "\n",
            "Increase the number of iterations (max_iter) or scale the data as shown in:\n",
            "    https://scikit-learn.org/stable/modules/preprocessing.html\n",
            "Please also refer to the documentation for alternative solver options:\n",
            "    https://scikit-learn.org/stable/modules/linear_model.html#logistic-regression\n",
            "  n_iter_i = _check_optimize_result(\n"
          ]
        },
        {
          "output_type": "execute_result",
          "data": {
            "text/plain": [
              "LogisticRegression()"
            ],
            "text/html": [
              "<style>#sk-container-id-9 {color: black;background-color: white;}#sk-container-id-9 pre{padding: 0;}#sk-container-id-9 div.sk-toggleable {background-color: white;}#sk-container-id-9 label.sk-toggleable__label {cursor: pointer;display: block;width: 100%;margin-bottom: 0;padding: 0.3em;box-sizing: border-box;text-align: center;}#sk-container-id-9 label.sk-toggleable__label-arrow:before {content: \"▸\";float: left;margin-right: 0.25em;color: #696969;}#sk-container-id-9 label.sk-toggleable__label-arrow:hover:before {color: black;}#sk-container-id-9 div.sk-estimator:hover label.sk-toggleable__label-arrow:before {color: black;}#sk-container-id-9 div.sk-toggleable__content {max-height: 0;max-width: 0;overflow: hidden;text-align: left;background-color: #f0f8ff;}#sk-container-id-9 div.sk-toggleable__content pre {margin: 0.2em;color: black;border-radius: 0.25em;background-color: #f0f8ff;}#sk-container-id-9 input.sk-toggleable__control:checked~div.sk-toggleable__content {max-height: 200px;max-width: 100%;overflow: auto;}#sk-container-id-9 input.sk-toggleable__control:checked~label.sk-toggleable__label-arrow:before {content: \"▾\";}#sk-container-id-9 div.sk-estimator input.sk-toggleable__control:checked~label.sk-toggleable__label {background-color: #d4ebff;}#sk-container-id-9 div.sk-label input.sk-toggleable__control:checked~label.sk-toggleable__label {background-color: #d4ebff;}#sk-container-id-9 input.sk-hidden--visually {border: 0;clip: rect(1px 1px 1px 1px);clip: rect(1px, 1px, 1px, 1px);height: 1px;margin: -1px;overflow: hidden;padding: 0;position: absolute;width: 1px;}#sk-container-id-9 div.sk-estimator {font-family: monospace;background-color: #f0f8ff;border: 1px dotted black;border-radius: 0.25em;box-sizing: border-box;margin-bottom: 0.5em;}#sk-container-id-9 div.sk-estimator:hover {background-color: #d4ebff;}#sk-container-id-9 div.sk-parallel-item::after {content: \"\";width: 100%;border-bottom: 1px solid gray;flex-grow: 1;}#sk-container-id-9 div.sk-label:hover label.sk-toggleable__label {background-color: #d4ebff;}#sk-container-id-9 div.sk-serial::before {content: \"\";position: absolute;border-left: 1px solid gray;box-sizing: border-box;top: 0;bottom: 0;left: 50%;z-index: 0;}#sk-container-id-9 div.sk-serial {display: flex;flex-direction: column;align-items: center;background-color: white;padding-right: 0.2em;padding-left: 0.2em;position: relative;}#sk-container-id-9 div.sk-item {position: relative;z-index: 1;}#sk-container-id-9 div.sk-parallel {display: flex;align-items: stretch;justify-content: center;background-color: white;position: relative;}#sk-container-id-9 div.sk-item::before, #sk-container-id-9 div.sk-parallel-item::before {content: \"\";position: absolute;border-left: 1px solid gray;box-sizing: border-box;top: 0;bottom: 0;left: 50%;z-index: -1;}#sk-container-id-9 div.sk-parallel-item {display: flex;flex-direction: column;z-index: 1;position: relative;background-color: white;}#sk-container-id-9 div.sk-parallel-item:first-child::after {align-self: flex-end;width: 50%;}#sk-container-id-9 div.sk-parallel-item:last-child::after {align-self: flex-start;width: 50%;}#sk-container-id-9 div.sk-parallel-item:only-child::after {width: 0;}#sk-container-id-9 div.sk-dashed-wrapped {border: 1px dashed gray;margin: 0 0.4em 0.5em 0.4em;box-sizing: border-box;padding-bottom: 0.4em;background-color: white;}#sk-container-id-9 div.sk-label label {font-family: monospace;font-weight: bold;display: inline-block;line-height: 1.2em;}#sk-container-id-9 div.sk-label-container {text-align: center;}#sk-container-id-9 div.sk-container {/* jupyter's `normalize.less` sets `[hidden] { display: none; }` but bootstrap.min.css set `[hidden] { display: none !important; }` so we also need the `!important` here to be able to override the default hidden behavior on the sphinx rendered scikit-learn.org. See: https://github.com/scikit-learn/scikit-learn/issues/21755 */display: inline-block !important;position: relative;}#sk-container-id-9 div.sk-text-repr-fallback {display: none;}</style><div id=\"sk-container-id-9\" class=\"sk-top-container\"><div class=\"sk-text-repr-fallback\"><pre>LogisticRegression()</pre><b>In a Jupyter environment, please rerun this cell to show the HTML representation or trust the notebook. <br />On GitHub, the HTML representation is unable to render, please try loading this page with nbviewer.org.</b></div><div class=\"sk-container\" hidden><div class=\"sk-item\"><div class=\"sk-estimator sk-toggleable\"><input class=\"sk-toggleable__control sk-hidden--visually\" id=\"sk-estimator-id-9\" type=\"checkbox\" checked><label for=\"sk-estimator-id-9\" class=\"sk-toggleable__label sk-toggleable__label-arrow\">LogisticRegression</label><div class=\"sk-toggleable__content\"><pre>LogisticRegression()</pre></div></div></div></div></div>"
            ]
          },
          "metadata": {},
          "execution_count": 469
        }
      ]
    },
    {
      "cell_type": "code",
      "source": [
        "model.score(x_test,y_test)\n"
      ],
      "metadata": {
        "colab": {
          "base_uri": "https://localhost:8080/"
        },
        "id": "aXQvJp7hPwXV",
        "outputId": "d7f48a38-69a9-46f6-bff4-eb4367b16b40"
      },
      "execution_count": 470,
      "outputs": [
        {
          "output_type": "execute_result",
          "data": {
            "text/plain": [
              "0.9978308026030369"
            ]
          },
          "metadata": {},
          "execution_count": 470
        }
      ]
    },
    {
      "cell_type": "code",
      "source": [
        "y_pred=model.predict(x_test)"
      ],
      "metadata": {
        "id": "TaLA0xqLQHQG"
      },
      "execution_count": 471,
      "outputs": []
    },
    {
      "cell_type": "code",
      "source": [
        "from sklearn.metrics import confusion_matrix\n",
        "\n",
        "conf_mat = confusion_matrix(y_test,y_pred)\n",
        "conf_mat"
      ],
      "metadata": {
        "colab": {
          "base_uri": "https://localhost:8080/"
        },
        "id": "y9mdKmdlPyXz",
        "outputId": "0a54bf42-c474-4d22-ee74-28d5168d86b0"
      },
      "execution_count": 472,
      "outputs": [
        {
          "output_type": "execute_result",
          "data": {
            "text/plain": [
              "array([[  880,     4,     0],\n",
              "       [    3,  2402,    19],\n",
              "       [    0,    11, 13738]])"
            ]
          },
          "metadata": {},
          "execution_count": 472
        }
      ]
    },
    {
      "cell_type": "code",
      "source": [
        "from sklearn.ensemble import RandomForestClassifier\n",
        "model_1 = RandomForestClassifier(n_estimators=50, max_depth=20, random_state=11)\n",
        "model_1.fit(x_train,y_train)\n",
        "predictions = model_1.predict(x_test)"
      ],
      "metadata": {
        "id": "S1w3xRH5QEM4"
      },
      "execution_count": 473,
      "outputs": []
    },
    {
      "cell_type": "code",
      "source": [
        "model_1.score(x_test,y_test)"
      ],
      "metadata": {
        "colab": {
          "base_uri": "https://localhost:8080/"
        },
        "id": "_bNJgPhjRzQ2",
        "outputId": "ad9a26f5-3ecf-42f6-eaac-ef98d1207f49"
      },
      "execution_count": 474,
      "outputs": [
        {
          "output_type": "execute_result",
          "data": {
            "text/plain": [
              "1.0"
            ]
          },
          "metadata": {},
          "execution_count": 474
        }
      ]
    },
    {
      "cell_type": "markdown",
      "source": [
        "#TEST DATA"
      ],
      "metadata": {
        "id": "3wfdzmRQqPdD"
      }
    },
    {
      "cell_type": "code",
      "source": [
        "test = pd.read_csv(\"/content/test.csv\")\n",
        "test.shape"
      ],
      "metadata": {
        "colab": {
          "base_uri": "https://localhost:8080/"
        },
        "id": "m6UrVWlgR2TO",
        "outputId": "1484495b-416f-42b2-b36d-4c71c733e0c4"
      },
      "execution_count": 475,
      "outputs": [
        {
          "output_type": "execute_result",
          "data": {
            "text/plain": [
              "(122662, 39)"
            ]
          },
          "metadata": {},
          "execution_count": 475
        }
      ]
    },
    {
      "cell_type": "code",
      "source": [
        "test.head()"
      ],
      "metadata": {
        "colab": {
          "base_uri": "https://localhost:8080/",
          "height": 299
        },
        "id": "KZt93PN6ScCo",
        "outputId": "6a70a5ae-12ad-465c-b8df-724946d4ce9b"
      },
      "execution_count": 476,
      "outputs": [
        {
          "output_type": "execute_result",
          "data": {
            "text/plain": [
              "      exchange        RSI RSI_signal       ATR  EMA_relative  MA_relative  \\\n",
              "0     BigStock  43.478261       Hold  0.000047      0.999783     1.000338   \n",
              "1  OkayFinance  60.869565       Hold  0.007800      0.994304     0.993500   \n",
              "2  OkayFinance  89.473684       Sell  0.000023      0.999171     0.998335   \n",
              "3  OkayFinance  41.891892       Hold  0.100000      0.999145     0.999414   \n",
              "4   HeroStocks  53.367876       Hold  0.016333      1.000864     1.000520   \n",
              "\n",
              "   SMA_relative  WMA_relative      MACD  MACD_relative  ...  \\\n",
              "0     -0.033829      0.000238 -0.000053      -0.003367  ...   \n",
              "1      0.654291      0.005838  0.001707       0.000645  ...   \n",
              "2      0.166814      0.000700  0.000053       0.002085  ...   \n",
              "3      0.058674      0.000945 -0.035090      -0.000401  ...   \n",
              "4     -0.051951     -0.001008  0.002869       0.000386  ...   \n",
              "\n",
              "   Bollinger_lower_band  Bollinger_signal  ichimoku_c_conversion_line  \\\n",
              "0             -0.010565              Hold                   -0.063452   \n",
              "1             -0.000386              Hold                   -0.642479   \n",
              "2             -0.000553              Hold                   -0.117096   \n",
              "3             -0.002394              Hold                   -0.165639   \n",
              "4             -0.009193              Hold                    0.181476   \n",
              "\n",
              "   ichimoku_c_base_line  ichimoku_c_leading_span_a  ichimoku_c_leading_span_b  \\\n",
              "0              0.571066                   1.729061                   1.967005   \n",
              "1             -0.566893                  -0.255102                  -0.132275   \n",
              "2             -0.351288                  -0.634270                  -0.644028   \n",
              "3             -0.085675                   0.105666                   0.428376   \n",
              "4              0.094099                   1.008200                   1.102299   \n",
              "\n",
              "   ichimoku_c_signal SAR_relative  s&p_move_15m      id  \n",
              "0               Sell     0.107612     -1.333366    4049  \n",
              "1               Sell    -0.725446     -0.050090  292873  \n",
              "2                Buy    -0.117630      0.182169   80893  \n",
              "3               Sell    -0.143443     -0.001095  246380  \n",
              "4               Sell     0.072801     -0.133143  145977  \n",
              "\n",
              "[5 rows x 39 columns]"
            ],
            "text/html": [
              "\n",
              "  <div id=\"df-30255dd0-981b-4896-9f05-0c701fc0641f\">\n",
              "    <div class=\"colab-df-container\">\n",
              "      <div>\n",
              "<style scoped>\n",
              "    .dataframe tbody tr th:only-of-type {\n",
              "        vertical-align: middle;\n",
              "    }\n",
              "\n",
              "    .dataframe tbody tr th {\n",
              "        vertical-align: top;\n",
              "    }\n",
              "\n",
              "    .dataframe thead th {\n",
              "        text-align: right;\n",
              "    }\n",
              "</style>\n",
              "<table border=\"1\" class=\"dataframe\">\n",
              "  <thead>\n",
              "    <tr style=\"text-align: right;\">\n",
              "      <th></th>\n",
              "      <th>exchange</th>\n",
              "      <th>RSI</th>\n",
              "      <th>RSI_signal</th>\n",
              "      <th>ATR</th>\n",
              "      <th>EMA_relative</th>\n",
              "      <th>MA_relative</th>\n",
              "      <th>SMA_relative</th>\n",
              "      <th>WMA_relative</th>\n",
              "      <th>MACD</th>\n",
              "      <th>MACD_relative</th>\n",
              "      <th>...</th>\n",
              "      <th>Bollinger_lower_band</th>\n",
              "      <th>Bollinger_signal</th>\n",
              "      <th>ichimoku_c_conversion_line</th>\n",
              "      <th>ichimoku_c_base_line</th>\n",
              "      <th>ichimoku_c_leading_span_a</th>\n",
              "      <th>ichimoku_c_leading_span_b</th>\n",
              "      <th>ichimoku_c_signal</th>\n",
              "      <th>SAR_relative</th>\n",
              "      <th>s&amp;p_move_15m</th>\n",
              "      <th>id</th>\n",
              "    </tr>\n",
              "  </thead>\n",
              "  <tbody>\n",
              "    <tr>\n",
              "      <th>0</th>\n",
              "      <td>BigStock</td>\n",
              "      <td>43.478261</td>\n",
              "      <td>Hold</td>\n",
              "      <td>0.000047</td>\n",
              "      <td>0.999783</td>\n",
              "      <td>1.000338</td>\n",
              "      <td>-0.033829</td>\n",
              "      <td>0.000238</td>\n",
              "      <td>-0.000053</td>\n",
              "      <td>-0.003367</td>\n",
              "      <td>...</td>\n",
              "      <td>-0.010565</td>\n",
              "      <td>Hold</td>\n",
              "      <td>-0.063452</td>\n",
              "      <td>0.571066</td>\n",
              "      <td>1.729061</td>\n",
              "      <td>1.967005</td>\n",
              "      <td>Sell</td>\n",
              "      <td>0.107612</td>\n",
              "      <td>-1.333366</td>\n",
              "      <td>4049</td>\n",
              "    </tr>\n",
              "    <tr>\n",
              "      <th>1</th>\n",
              "      <td>OkayFinance</td>\n",
              "      <td>60.869565</td>\n",
              "      <td>Hold</td>\n",
              "      <td>0.007800</td>\n",
              "      <td>0.994304</td>\n",
              "      <td>0.993500</td>\n",
              "      <td>0.654291</td>\n",
              "      <td>0.005838</td>\n",
              "      <td>0.001707</td>\n",
              "      <td>0.000645</td>\n",
              "      <td>...</td>\n",
              "      <td>-0.000386</td>\n",
              "      <td>Hold</td>\n",
              "      <td>-0.642479</td>\n",
              "      <td>-0.566893</td>\n",
              "      <td>-0.255102</td>\n",
              "      <td>-0.132275</td>\n",
              "      <td>Sell</td>\n",
              "      <td>-0.725446</td>\n",
              "      <td>-0.050090</td>\n",
              "      <td>292873</td>\n",
              "    </tr>\n",
              "    <tr>\n",
              "      <th>2</th>\n",
              "      <td>OkayFinance</td>\n",
              "      <td>89.473684</td>\n",
              "      <td>Sell</td>\n",
              "      <td>0.000023</td>\n",
              "      <td>0.999171</td>\n",
              "      <td>0.998335</td>\n",
              "      <td>0.166814</td>\n",
              "      <td>0.000700</td>\n",
              "      <td>0.000053</td>\n",
              "      <td>0.002085</td>\n",
              "      <td>...</td>\n",
              "      <td>-0.000553</td>\n",
              "      <td>Hold</td>\n",
              "      <td>-0.117096</td>\n",
              "      <td>-0.351288</td>\n",
              "      <td>-0.634270</td>\n",
              "      <td>-0.644028</td>\n",
              "      <td>Buy</td>\n",
              "      <td>-0.117630</td>\n",
              "      <td>0.182169</td>\n",
              "      <td>80893</td>\n",
              "    </tr>\n",
              "    <tr>\n",
              "      <th>3</th>\n",
              "      <td>OkayFinance</td>\n",
              "      <td>41.891892</td>\n",
              "      <td>Hold</td>\n",
              "      <td>0.100000</td>\n",
              "      <td>0.999145</td>\n",
              "      <td>0.999414</td>\n",
              "      <td>0.058674</td>\n",
              "      <td>0.000945</td>\n",
              "      <td>-0.035090</td>\n",
              "      <td>-0.000401</td>\n",
              "      <td>...</td>\n",
              "      <td>-0.002394</td>\n",
              "      <td>Hold</td>\n",
              "      <td>-0.165639</td>\n",
              "      <td>-0.085675</td>\n",
              "      <td>0.105666</td>\n",
              "      <td>0.428376</td>\n",
              "      <td>Sell</td>\n",
              "      <td>-0.143443</td>\n",
              "      <td>-0.001095</td>\n",
              "      <td>246380</td>\n",
              "    </tr>\n",
              "    <tr>\n",
              "      <th>4</th>\n",
              "      <td>HeroStocks</td>\n",
              "      <td>53.367876</td>\n",
              "      <td>Hold</td>\n",
              "      <td>0.016333</td>\n",
              "      <td>1.000864</td>\n",
              "      <td>1.000520</td>\n",
              "      <td>-0.051951</td>\n",
              "      <td>-0.001008</td>\n",
              "      <td>0.002869</td>\n",
              "      <td>0.000386</td>\n",
              "      <td>...</td>\n",
              "      <td>-0.009193</td>\n",
              "      <td>Hold</td>\n",
              "      <td>0.181476</td>\n",
              "      <td>0.094099</td>\n",
              "      <td>1.008200</td>\n",
              "      <td>1.102299</td>\n",
              "      <td>Sell</td>\n",
              "      <td>0.072801</td>\n",
              "      <td>-0.133143</td>\n",
              "      <td>145977</td>\n",
              "    </tr>\n",
              "  </tbody>\n",
              "</table>\n",
              "<p>5 rows × 39 columns</p>\n",
              "</div>\n",
              "      <button class=\"colab-df-convert\" onclick=\"convertToInteractive('df-30255dd0-981b-4896-9f05-0c701fc0641f')\"\n",
              "              title=\"Convert this dataframe to an interactive table.\"\n",
              "              style=\"display:none;\">\n",
              "        \n",
              "  <svg xmlns=\"http://www.w3.org/2000/svg\" height=\"24px\"viewBox=\"0 0 24 24\"\n",
              "       width=\"24px\">\n",
              "    <path d=\"M0 0h24v24H0V0z\" fill=\"none\"/>\n",
              "    <path d=\"M18.56 5.44l.94 2.06.94-2.06 2.06-.94-2.06-.94-.94-2.06-.94 2.06-2.06.94zm-11 1L8.5 8.5l.94-2.06 2.06-.94-2.06-.94L8.5 2.5l-.94 2.06-2.06.94zm10 10l.94 2.06.94-2.06 2.06-.94-2.06-.94-.94-2.06-.94 2.06-2.06.94z\"/><path d=\"M17.41 7.96l-1.37-1.37c-.4-.4-.92-.59-1.43-.59-.52 0-1.04.2-1.43.59L10.3 9.45l-7.72 7.72c-.78.78-.78 2.05 0 2.83L4 21.41c.39.39.9.59 1.41.59.51 0 1.02-.2 1.41-.59l7.78-7.78 2.81-2.81c.8-.78.8-2.07 0-2.86zM5.41 20L4 18.59l7.72-7.72 1.47 1.35L5.41 20z\"/>\n",
              "  </svg>\n",
              "      </button>\n",
              "      \n",
              "  <style>\n",
              "    .colab-df-container {\n",
              "      display:flex;\n",
              "      flex-wrap:wrap;\n",
              "      gap: 12px;\n",
              "    }\n",
              "\n",
              "    .colab-df-convert {\n",
              "      background-color: #E8F0FE;\n",
              "      border: none;\n",
              "      border-radius: 50%;\n",
              "      cursor: pointer;\n",
              "      display: none;\n",
              "      fill: #1967D2;\n",
              "      height: 32px;\n",
              "      padding: 0 0 0 0;\n",
              "      width: 32px;\n",
              "    }\n",
              "\n",
              "    .colab-df-convert:hover {\n",
              "      background-color: #E2EBFA;\n",
              "      box-shadow: 0px 1px 2px rgba(60, 64, 67, 0.3), 0px 1px 3px 1px rgba(60, 64, 67, 0.15);\n",
              "      fill: #174EA6;\n",
              "    }\n",
              "\n",
              "    [theme=dark] .colab-df-convert {\n",
              "      background-color: #3B4455;\n",
              "      fill: #D2E3FC;\n",
              "    }\n",
              "\n",
              "    [theme=dark] .colab-df-convert:hover {\n",
              "      background-color: #434B5C;\n",
              "      box-shadow: 0px 1px 3px 1px rgba(0, 0, 0, 0.15);\n",
              "      filter: drop-shadow(0px 1px 2px rgba(0, 0, 0, 0.3));\n",
              "      fill: #FFFFFF;\n",
              "    }\n",
              "  </style>\n",
              "\n",
              "      <script>\n",
              "        const buttonEl =\n",
              "          document.querySelector('#df-30255dd0-981b-4896-9f05-0c701fc0641f button.colab-df-convert');\n",
              "        buttonEl.style.display =\n",
              "          google.colab.kernel.accessAllowed ? 'block' : 'none';\n",
              "\n",
              "        async function convertToInteractive(key) {\n",
              "          const element = document.querySelector('#df-30255dd0-981b-4896-9f05-0c701fc0641f');\n",
              "          const dataTable =\n",
              "            await google.colab.kernel.invokeFunction('convertToInteractive',\n",
              "                                                     [key], {});\n",
              "          if (!dataTable) return;\n",
              "\n",
              "          const docLinkHtml = 'Like what you see? Visit the ' +\n",
              "            '<a target=\"_blank\" href=https://colab.research.google.com/notebooks/data_table.ipynb>data table notebook</a>'\n",
              "            + ' to learn more about interactive tables.';\n",
              "          element.innerHTML = '';\n",
              "          dataTable['output_type'] = 'display_data';\n",
              "          await google.colab.output.renderOutput(dataTable, element);\n",
              "          const docLink = document.createElement('div');\n",
              "          docLink.innerHTML = docLinkHtml;\n",
              "          element.appendChild(docLink);\n",
              "        }\n",
              "      </script>\n",
              "    </div>\n",
              "  </div>\n",
              "  "
            ]
          },
          "metadata": {},
          "execution_count": 476
        }
      ]
    },
    {
      "cell_type": "code",
      "source": [
        "nan_rows  = test.loc[test.isna().any(axis=1)]"
      ],
      "metadata": {
        "id": "gPw5u0JFSdzl"
      },
      "execution_count": 477,
      "outputs": []
    },
    {
      "cell_type": "code",
      "source": [
        "nan_rows"
      ],
      "metadata": {
        "colab": {
          "base_uri": "https://localhost:8080/",
          "height": 143
        },
        "id": "RdgGYB5dSkH0",
        "outputId": "5031ba5a-9c9d-42e9-e480-68baebbe7c15"
      },
      "execution_count": 478,
      "outputs": [
        {
          "output_type": "execute_result",
          "data": {
            "text/plain": [
              "Empty DataFrame\n",
              "Columns: [exchange, RSI, RSI_signal, ATR, EMA_relative, MA_relative, SMA_relative, WMA_relative, MACD, MACD_relative, MACD_relative_signal, MACD_relative_histogram, ADX, Stoch_O_k_value, Stoch_O_k_smoothed, Stoch_O_d_value, Stoch_O_signal_value, Stoch_O_signal, pivot_point, pivot_support_1, pivot_resistance_1, pivot_support_2, pivot_resistance_2, pivot_support_3, pivot_resistance_3, fibonacci_signal, VWAP_relative_short, VWAP_relative_long, Bollinger_upper_band, Bollinger_lower_band, Bollinger_signal, ichimoku_c_conversion_line, ichimoku_c_base_line, ichimoku_c_leading_span_a, ichimoku_c_leading_span_b, ichimoku_c_signal, SAR_relative, s&p_move_15m, id]\n",
              "Index: []\n",
              "\n",
              "[0 rows x 39 columns]"
            ],
            "text/html": [
              "\n",
              "  <div id=\"df-44bf5a9b-ec24-47c2-a643-b8ff5801264d\">\n",
              "    <div class=\"colab-df-container\">\n",
              "      <div>\n",
              "<style scoped>\n",
              "    .dataframe tbody tr th:only-of-type {\n",
              "        vertical-align: middle;\n",
              "    }\n",
              "\n",
              "    .dataframe tbody tr th {\n",
              "        vertical-align: top;\n",
              "    }\n",
              "\n",
              "    .dataframe thead th {\n",
              "        text-align: right;\n",
              "    }\n",
              "</style>\n",
              "<table border=\"1\" class=\"dataframe\">\n",
              "  <thead>\n",
              "    <tr style=\"text-align: right;\">\n",
              "      <th></th>\n",
              "      <th>exchange</th>\n",
              "      <th>RSI</th>\n",
              "      <th>RSI_signal</th>\n",
              "      <th>ATR</th>\n",
              "      <th>EMA_relative</th>\n",
              "      <th>MA_relative</th>\n",
              "      <th>SMA_relative</th>\n",
              "      <th>WMA_relative</th>\n",
              "      <th>MACD</th>\n",
              "      <th>MACD_relative</th>\n",
              "      <th>...</th>\n",
              "      <th>Bollinger_lower_band</th>\n",
              "      <th>Bollinger_signal</th>\n",
              "      <th>ichimoku_c_conversion_line</th>\n",
              "      <th>ichimoku_c_base_line</th>\n",
              "      <th>ichimoku_c_leading_span_a</th>\n",
              "      <th>ichimoku_c_leading_span_b</th>\n",
              "      <th>ichimoku_c_signal</th>\n",
              "      <th>SAR_relative</th>\n",
              "      <th>s&amp;p_move_15m</th>\n",
              "      <th>id</th>\n",
              "    </tr>\n",
              "  </thead>\n",
              "  <tbody>\n",
              "  </tbody>\n",
              "</table>\n",
              "<p>0 rows × 39 columns</p>\n",
              "</div>\n",
              "      <button class=\"colab-df-convert\" onclick=\"convertToInteractive('df-44bf5a9b-ec24-47c2-a643-b8ff5801264d')\"\n",
              "              title=\"Convert this dataframe to an interactive table.\"\n",
              "              style=\"display:none;\">\n",
              "        \n",
              "  <svg xmlns=\"http://www.w3.org/2000/svg\" height=\"24px\"viewBox=\"0 0 24 24\"\n",
              "       width=\"24px\">\n",
              "    <path d=\"M0 0h24v24H0V0z\" fill=\"none\"/>\n",
              "    <path d=\"M18.56 5.44l.94 2.06.94-2.06 2.06-.94-2.06-.94-.94-2.06-.94 2.06-2.06.94zm-11 1L8.5 8.5l.94-2.06 2.06-.94-2.06-.94L8.5 2.5l-.94 2.06-2.06.94zm10 10l.94 2.06.94-2.06 2.06-.94-2.06-.94-.94-2.06-.94 2.06-2.06.94z\"/><path d=\"M17.41 7.96l-1.37-1.37c-.4-.4-.92-.59-1.43-.59-.52 0-1.04.2-1.43.59L10.3 9.45l-7.72 7.72c-.78.78-.78 2.05 0 2.83L4 21.41c.39.39.9.59 1.41.59.51 0 1.02-.2 1.41-.59l7.78-7.78 2.81-2.81c.8-.78.8-2.07 0-2.86zM5.41 20L4 18.59l7.72-7.72 1.47 1.35L5.41 20z\"/>\n",
              "  </svg>\n",
              "      </button>\n",
              "      \n",
              "  <style>\n",
              "    .colab-df-container {\n",
              "      display:flex;\n",
              "      flex-wrap:wrap;\n",
              "      gap: 12px;\n",
              "    }\n",
              "\n",
              "    .colab-df-convert {\n",
              "      background-color: #E8F0FE;\n",
              "      border: none;\n",
              "      border-radius: 50%;\n",
              "      cursor: pointer;\n",
              "      display: none;\n",
              "      fill: #1967D2;\n",
              "      height: 32px;\n",
              "      padding: 0 0 0 0;\n",
              "      width: 32px;\n",
              "    }\n",
              "\n",
              "    .colab-df-convert:hover {\n",
              "      background-color: #E2EBFA;\n",
              "      box-shadow: 0px 1px 2px rgba(60, 64, 67, 0.3), 0px 1px 3px 1px rgba(60, 64, 67, 0.15);\n",
              "      fill: #174EA6;\n",
              "    }\n",
              "\n",
              "    [theme=dark] .colab-df-convert {\n",
              "      background-color: #3B4455;\n",
              "      fill: #D2E3FC;\n",
              "    }\n",
              "\n",
              "    [theme=dark] .colab-df-convert:hover {\n",
              "      background-color: #434B5C;\n",
              "      box-shadow: 0px 1px 3px 1px rgba(0, 0, 0, 0.15);\n",
              "      filter: drop-shadow(0px 1px 2px rgba(0, 0, 0, 0.3));\n",
              "      fill: #FFFFFF;\n",
              "    }\n",
              "  </style>\n",
              "\n",
              "      <script>\n",
              "        const buttonEl =\n",
              "          document.querySelector('#df-44bf5a9b-ec24-47c2-a643-b8ff5801264d button.colab-df-convert');\n",
              "        buttonEl.style.display =\n",
              "          google.colab.kernel.accessAllowed ? 'block' : 'none';\n",
              "\n",
              "        async function convertToInteractive(key) {\n",
              "          const element = document.querySelector('#df-44bf5a9b-ec24-47c2-a643-b8ff5801264d');\n",
              "          const dataTable =\n",
              "            await google.colab.kernel.invokeFunction('convertToInteractive',\n",
              "                                                     [key], {});\n",
              "          if (!dataTable) return;\n",
              "\n",
              "          const docLinkHtml = 'Like what you see? Visit the ' +\n",
              "            '<a target=\"_blank\" href=https://colab.research.google.com/notebooks/data_table.ipynb>data table notebook</a>'\n",
              "            + ' to learn more about interactive tables.';\n",
              "          element.innerHTML = '';\n",
              "          dataTable['output_type'] = 'display_data';\n",
              "          await google.colab.output.renderOutput(dataTable, element);\n",
              "          const docLink = document.createElement('div');\n",
              "          docLink.innerHTML = docLinkHtml;\n",
              "          element.appendChild(docLink);\n",
              "        }\n",
              "      </script>\n",
              "    </div>\n",
              "  </div>\n",
              "  "
            ]
          },
          "metadata": {},
          "execution_count": 478
        }
      ]
    },
    {
      "cell_type": "markdown",
      "source": [
        "# Data Preprocessing phase for Test DataSet"
      ],
      "metadata": {
        "id": "qGFIM_J_qUsR"
      }
    },
    {
      "cell_type": "code",
      "source": [
        "from sklearn.preprocessing import LabelEncoder\n",
        "le2 = LabelEncoder()\n",
        "label = le2.fit_transform(test['RSI_signal'])\n",
        "test.drop(\"RSI_signal\", axis=1, inplace=True)\n",
        "test[\"RSI_signal\"] = label\n",
        "\n",
        "from sklearn.preprocessing import LabelEncoder\n",
        "le2 = LabelEncoder()\n",
        "label = le2.fit_transform(test['exchange'])\n",
        "test.drop(\"exchange\", axis=1, inplace=True)\n",
        "test[\"exchange\"] = label\n",
        "\n",
        "from sklearn.preprocessing import LabelEncoder\n",
        "le2 = LabelEncoder()\n",
        "label = le2.fit_transform(test['Bollinger_signal'])\n",
        "test.drop(\"Bollinger_signal\", axis=1, inplace=True)\n",
        "test[\"Bollinger_signal\"] = label\n",
        "\n",
        "from sklearn.preprocessing import LabelEncoder\n",
        "le2 = LabelEncoder()\n",
        "label = le2.fit_transform(test['fibonacci_signal'])\n",
        "test.drop(\"fibonacci_signal\", axis=1, inplace=True)\n",
        "test[\"fibonacci_signal\"] = label\n",
        "\n",
        "from sklearn.preprocessing import LabelEncoder\n",
        "le2 = LabelEncoder()\n",
        "label = le2.fit_transform(test['ichimoku_c_signal'])\n",
        "test.drop(\"ichimoku_c_signal\", axis=1, inplace=True)\n",
        "test[\"ichimoku_c_signal\"] = label\n",
        "\n",
        "from sklearn.preprocessing import LabelEncoder\n",
        "le2 = LabelEncoder()\n",
        "label = le2.fit_transform(test['Stoch_O_signal'])\n",
        "test.drop(\"Stoch_O_signal\", axis=1, inplace=True)\n",
        "test[\"Stoch_O_signal\"] = label"
      ],
      "metadata": {
        "id": "DpNfmbyDS3mv"
      },
      "execution_count": 479,
      "outputs": []
    },
    {
      "cell_type": "code",
      "source": [
        "test.head()"
      ],
      "metadata": {
        "colab": {
          "base_uri": "https://localhost:8080/",
          "height": 299
        },
        "id": "XyLEcvUzTwBj",
        "outputId": "88a9666f-760d-42b4-9b1b-55b644422515"
      },
      "execution_count": 480,
      "outputs": [
        {
          "output_type": "execute_result",
          "data": {
            "text/plain": [
              "         RSI       ATR  EMA_relative  MA_relative  SMA_relative  WMA_relative  \\\n",
              "0  43.478261  0.000047      0.999783     1.000338     -0.033829      0.000238   \n",
              "1  60.869565  0.007800      0.994304     0.993500      0.654291      0.005838   \n",
              "2  89.473684  0.000023      0.999171     0.998335      0.166814      0.000700   \n",
              "3  41.891892  0.100000      0.999145     0.999414      0.058674      0.000945   \n",
              "4  53.367876  0.016333      1.000864     1.000520     -0.051951     -0.001008   \n",
              "\n",
              "       MACD  MACD_relative  MACD_relative_signal  MACD_relative_histogram  \\\n",
              "0 -0.000053      -0.003367              0.999491                -1.002858   \n",
              "1  0.001707       0.000645              0.995306                -0.994661   \n",
              "2  0.000053       0.002085              0.999947                -0.997862   \n",
              "3 -0.035090      -0.000401              0.998933                -0.999334   \n",
              "4  0.002869       0.000386              1.000989                -1.000603   \n",
              "\n",
              "   ...  ichimoku_c_leading_span_b  SAR_relative  s&p_move_15m      id  \\\n",
              "0  ...                   1.967005      0.107612     -1.333366    4049   \n",
              "1  ...                  -0.132275     -0.725446     -0.050090  292873   \n",
              "2  ...                  -0.644028     -0.117630      0.182169   80893   \n",
              "3  ...                   0.428376     -0.143443     -0.001095  246380   \n",
              "4  ...                   1.102299      0.072801     -0.133143  145977   \n",
              "\n",
              "   RSI_signal  exchange  Bollinger_signal  fibonacci_signal  \\\n",
              "0           1         0                 1                 2   \n",
              "1           1         3                 1                 0   \n",
              "2           2         3                 1                 0   \n",
              "3           1         3                 1                 0   \n",
              "4           1         2                 1                 2   \n",
              "\n",
              "   ichimoku_c_signal  Stoch_O_signal  \n",
              "0                  2               2  \n",
              "1                  2               2  \n",
              "2                  0               0  \n",
              "3                  2               2  \n",
              "4                  2               2  \n",
              "\n",
              "[5 rows x 39 columns]"
            ],
            "text/html": [
              "\n",
              "  <div id=\"df-98986c57-e784-41d5-aca9-e46245fbf30b\">\n",
              "    <div class=\"colab-df-container\">\n",
              "      <div>\n",
              "<style scoped>\n",
              "    .dataframe tbody tr th:only-of-type {\n",
              "        vertical-align: middle;\n",
              "    }\n",
              "\n",
              "    .dataframe tbody tr th {\n",
              "        vertical-align: top;\n",
              "    }\n",
              "\n",
              "    .dataframe thead th {\n",
              "        text-align: right;\n",
              "    }\n",
              "</style>\n",
              "<table border=\"1\" class=\"dataframe\">\n",
              "  <thead>\n",
              "    <tr style=\"text-align: right;\">\n",
              "      <th></th>\n",
              "      <th>RSI</th>\n",
              "      <th>ATR</th>\n",
              "      <th>EMA_relative</th>\n",
              "      <th>MA_relative</th>\n",
              "      <th>SMA_relative</th>\n",
              "      <th>WMA_relative</th>\n",
              "      <th>MACD</th>\n",
              "      <th>MACD_relative</th>\n",
              "      <th>MACD_relative_signal</th>\n",
              "      <th>MACD_relative_histogram</th>\n",
              "      <th>...</th>\n",
              "      <th>ichimoku_c_leading_span_b</th>\n",
              "      <th>SAR_relative</th>\n",
              "      <th>s&amp;p_move_15m</th>\n",
              "      <th>id</th>\n",
              "      <th>RSI_signal</th>\n",
              "      <th>exchange</th>\n",
              "      <th>Bollinger_signal</th>\n",
              "      <th>fibonacci_signal</th>\n",
              "      <th>ichimoku_c_signal</th>\n",
              "      <th>Stoch_O_signal</th>\n",
              "    </tr>\n",
              "  </thead>\n",
              "  <tbody>\n",
              "    <tr>\n",
              "      <th>0</th>\n",
              "      <td>43.478261</td>\n",
              "      <td>0.000047</td>\n",
              "      <td>0.999783</td>\n",
              "      <td>1.000338</td>\n",
              "      <td>-0.033829</td>\n",
              "      <td>0.000238</td>\n",
              "      <td>-0.000053</td>\n",
              "      <td>-0.003367</td>\n",
              "      <td>0.999491</td>\n",
              "      <td>-1.002858</td>\n",
              "      <td>...</td>\n",
              "      <td>1.967005</td>\n",
              "      <td>0.107612</td>\n",
              "      <td>-1.333366</td>\n",
              "      <td>4049</td>\n",
              "      <td>1</td>\n",
              "      <td>0</td>\n",
              "      <td>1</td>\n",
              "      <td>2</td>\n",
              "      <td>2</td>\n",
              "      <td>2</td>\n",
              "    </tr>\n",
              "    <tr>\n",
              "      <th>1</th>\n",
              "      <td>60.869565</td>\n",
              "      <td>0.007800</td>\n",
              "      <td>0.994304</td>\n",
              "      <td>0.993500</td>\n",
              "      <td>0.654291</td>\n",
              "      <td>0.005838</td>\n",
              "      <td>0.001707</td>\n",
              "      <td>0.000645</td>\n",
              "      <td>0.995306</td>\n",
              "      <td>-0.994661</td>\n",
              "      <td>...</td>\n",
              "      <td>-0.132275</td>\n",
              "      <td>-0.725446</td>\n",
              "      <td>-0.050090</td>\n",
              "      <td>292873</td>\n",
              "      <td>1</td>\n",
              "      <td>3</td>\n",
              "      <td>1</td>\n",
              "      <td>0</td>\n",
              "      <td>2</td>\n",
              "      <td>2</td>\n",
              "    </tr>\n",
              "    <tr>\n",
              "      <th>2</th>\n",
              "      <td>89.473684</td>\n",
              "      <td>0.000023</td>\n",
              "      <td>0.999171</td>\n",
              "      <td>0.998335</td>\n",
              "      <td>0.166814</td>\n",
              "      <td>0.000700</td>\n",
              "      <td>0.000053</td>\n",
              "      <td>0.002085</td>\n",
              "      <td>0.999947</td>\n",
              "      <td>-0.997862</td>\n",
              "      <td>...</td>\n",
              "      <td>-0.644028</td>\n",
              "      <td>-0.117630</td>\n",
              "      <td>0.182169</td>\n",
              "      <td>80893</td>\n",
              "      <td>2</td>\n",
              "      <td>3</td>\n",
              "      <td>1</td>\n",
              "      <td>0</td>\n",
              "      <td>0</td>\n",
              "      <td>0</td>\n",
              "    </tr>\n",
              "    <tr>\n",
              "      <th>3</th>\n",
              "      <td>41.891892</td>\n",
              "      <td>0.100000</td>\n",
              "      <td>0.999145</td>\n",
              "      <td>0.999414</td>\n",
              "      <td>0.058674</td>\n",
              "      <td>0.000945</td>\n",
              "      <td>-0.035090</td>\n",
              "      <td>-0.000401</td>\n",
              "      <td>0.998933</td>\n",
              "      <td>-0.999334</td>\n",
              "      <td>...</td>\n",
              "      <td>0.428376</td>\n",
              "      <td>-0.143443</td>\n",
              "      <td>-0.001095</td>\n",
              "      <td>246380</td>\n",
              "      <td>1</td>\n",
              "      <td>3</td>\n",
              "      <td>1</td>\n",
              "      <td>0</td>\n",
              "      <td>2</td>\n",
              "      <td>2</td>\n",
              "    </tr>\n",
              "    <tr>\n",
              "      <th>4</th>\n",
              "      <td>53.367876</td>\n",
              "      <td>0.016333</td>\n",
              "      <td>1.000864</td>\n",
              "      <td>1.000520</td>\n",
              "      <td>-0.051951</td>\n",
              "      <td>-0.001008</td>\n",
              "      <td>0.002869</td>\n",
              "      <td>0.000386</td>\n",
              "      <td>1.000989</td>\n",
              "      <td>-1.000603</td>\n",
              "      <td>...</td>\n",
              "      <td>1.102299</td>\n",
              "      <td>0.072801</td>\n",
              "      <td>-0.133143</td>\n",
              "      <td>145977</td>\n",
              "      <td>1</td>\n",
              "      <td>2</td>\n",
              "      <td>1</td>\n",
              "      <td>2</td>\n",
              "      <td>2</td>\n",
              "      <td>2</td>\n",
              "    </tr>\n",
              "  </tbody>\n",
              "</table>\n",
              "<p>5 rows × 39 columns</p>\n",
              "</div>\n",
              "      <button class=\"colab-df-convert\" onclick=\"convertToInteractive('df-98986c57-e784-41d5-aca9-e46245fbf30b')\"\n",
              "              title=\"Convert this dataframe to an interactive table.\"\n",
              "              style=\"display:none;\">\n",
              "        \n",
              "  <svg xmlns=\"http://www.w3.org/2000/svg\" height=\"24px\"viewBox=\"0 0 24 24\"\n",
              "       width=\"24px\">\n",
              "    <path d=\"M0 0h24v24H0V0z\" fill=\"none\"/>\n",
              "    <path d=\"M18.56 5.44l.94 2.06.94-2.06 2.06-.94-2.06-.94-.94-2.06-.94 2.06-2.06.94zm-11 1L8.5 8.5l.94-2.06 2.06-.94-2.06-.94L8.5 2.5l-.94 2.06-2.06.94zm10 10l.94 2.06.94-2.06 2.06-.94-2.06-.94-.94-2.06-.94 2.06-2.06.94z\"/><path d=\"M17.41 7.96l-1.37-1.37c-.4-.4-.92-.59-1.43-.59-.52 0-1.04.2-1.43.59L10.3 9.45l-7.72 7.72c-.78.78-.78 2.05 0 2.83L4 21.41c.39.39.9.59 1.41.59.51 0 1.02-.2 1.41-.59l7.78-7.78 2.81-2.81c.8-.78.8-2.07 0-2.86zM5.41 20L4 18.59l7.72-7.72 1.47 1.35L5.41 20z\"/>\n",
              "  </svg>\n",
              "      </button>\n",
              "      \n",
              "  <style>\n",
              "    .colab-df-container {\n",
              "      display:flex;\n",
              "      flex-wrap:wrap;\n",
              "      gap: 12px;\n",
              "    }\n",
              "\n",
              "    .colab-df-convert {\n",
              "      background-color: #E8F0FE;\n",
              "      border: none;\n",
              "      border-radius: 50%;\n",
              "      cursor: pointer;\n",
              "      display: none;\n",
              "      fill: #1967D2;\n",
              "      height: 32px;\n",
              "      padding: 0 0 0 0;\n",
              "      width: 32px;\n",
              "    }\n",
              "\n",
              "    .colab-df-convert:hover {\n",
              "      background-color: #E2EBFA;\n",
              "      box-shadow: 0px 1px 2px rgba(60, 64, 67, 0.3), 0px 1px 3px 1px rgba(60, 64, 67, 0.15);\n",
              "      fill: #174EA6;\n",
              "    }\n",
              "\n",
              "    [theme=dark] .colab-df-convert {\n",
              "      background-color: #3B4455;\n",
              "      fill: #D2E3FC;\n",
              "    }\n",
              "\n",
              "    [theme=dark] .colab-df-convert:hover {\n",
              "      background-color: #434B5C;\n",
              "      box-shadow: 0px 1px 3px 1px rgba(0, 0, 0, 0.15);\n",
              "      filter: drop-shadow(0px 1px 2px rgba(0, 0, 0, 0.3));\n",
              "      fill: #FFFFFF;\n",
              "    }\n",
              "  </style>\n",
              "\n",
              "      <script>\n",
              "        const buttonEl =\n",
              "          document.querySelector('#df-98986c57-e784-41d5-aca9-e46245fbf30b button.colab-df-convert');\n",
              "        buttonEl.style.display =\n",
              "          google.colab.kernel.accessAllowed ? 'block' : 'none';\n",
              "\n",
              "        async function convertToInteractive(key) {\n",
              "          const element = document.querySelector('#df-98986c57-e784-41d5-aca9-e46245fbf30b');\n",
              "          const dataTable =\n",
              "            await google.colab.kernel.invokeFunction('convertToInteractive',\n",
              "                                                     [key], {});\n",
              "          if (!dataTable) return;\n",
              "\n",
              "          const docLinkHtml = 'Like what you see? Visit the ' +\n",
              "            '<a target=\"_blank\" href=https://colab.research.google.com/notebooks/data_table.ipynb>data table notebook</a>'\n",
              "            + ' to learn more about interactive tables.';\n",
              "          element.innerHTML = '';\n",
              "          dataTable['output_type'] = 'display_data';\n",
              "          await google.colab.output.renderOutput(dataTable, element);\n",
              "          const docLink = document.createElement('div');\n",
              "          docLink.innerHTML = docLinkHtml;\n",
              "          element.appendChild(docLink);\n",
              "        }\n",
              "      </script>\n",
              "    </div>\n",
              "  </div>\n",
              "  "
            ]
          },
          "metadata": {},
          "execution_count": 480
        }
      ]
    },
    {
      "cell_type": "code",
      "source": [
        "X_2 = test.iloc[:, 0:].values\n",
        "from sklearn.preprocessing import StandardScaler\n",
        "sc_test = StandardScaler()\n",
        "X_2 = sc_test.fit_transform(X_2)\n",
        "X_2"
      ],
      "metadata": {
        "colab": {
          "base_uri": "https://localhost:8080/"
        },
        "id": "idj3h9G7YkeW",
        "outputId": "0e4037fd-7a65-46f9-e6ae-430cdbfb2560"
      },
      "execution_count": 481,
      "outputs": [
        {
          "output_type": "execute_result",
          "data": {
            "text/plain": [
              "array([[-0.32894155, -0.08041916, -0.05790148, ...,  0.96690851,\n",
              "         1.04156399,  0.27292995],\n",
              "       [ 0.62959571, -0.07763795, -1.69275681, ..., -1.03946795,\n",
              "         1.04156399,  0.27292995],\n",
              "       [ 2.20613725, -0.08042777, -0.24048822, ..., -1.03946795,\n",
              "        -0.97264584, -4.02244261],\n",
              "       ...,\n",
              "       [-0.01393838, -0.07977605, -0.29206628, ..., -1.03946795,\n",
              "        -0.97264584,  0.27292995],\n",
              "       [-0.88808828, -0.08040983,  0.49939366, ...,  0.96690851,\n",
              "        -0.97264584,  0.27292995],\n",
              "       [ 1.34279307, -0.08041485, -0.3572902 , ..., -1.03946795,\n",
              "        -0.97264584,  0.27292995]])"
            ]
          },
          "metadata": {},
          "execution_count": 481
        }
      ]
    },
    {
      "cell_type": "markdown",
      "source": [
        "# Predicting the test set results using above random forest classifier\n"
      ],
      "metadata": {
        "id": "H6TywJrsqadY"
      }
    },
    {
      "cell_type": "code",
      "source": [
        "y1 = model_1.predict(X_2)\n",
        "to_append = pd.DataFrame(y1, columns = ['result'])"
      ],
      "metadata": {
        "id": "EnJuJ-WVTydB"
      },
      "execution_count": 496,
      "outputs": []
    },
    {
      "cell_type": "code",
      "source": [
        "yo = test['id']\n",
        "yo"
      ],
      "metadata": {
        "colab": {
          "base_uri": "https://localhost:8080/"
        },
        "id": "FSlwxz8oU0wJ",
        "outputId": "b42e7c3c-35da-4555-85ef-9c9c97641b04"
      },
      "execution_count": 486,
      "outputs": [
        {
          "output_type": "execute_result",
          "data": {
            "text/plain": [
              "0           4049\n",
              "1         292873\n",
              "2          80893\n",
              "3         246380\n",
              "4         145977\n",
              "           ...  \n",
              "122657     97614\n",
              "122658    189089\n",
              "122659     59169\n",
              "122660    287199\n",
              "122661    223041\n",
              "Name: id, Length: 122662, dtype: int64"
            ]
          },
          "metadata": {},
          "execution_count": 486
        }
      ]
    },
    {
      "cell_type": "code",
      "source": [
        "to_append = to_append.astype(int)\n",
        "\n",
        "answer5 = pd.concat([yo,to_append] ,axis= 1)\n",
        "answer5.info()"
      ],
      "metadata": {
        "colab": {
          "base_uri": "https://localhost:8080/"
        },
        "id": "5SkWjRCZUZ9Y",
        "outputId": "7674b766-84cf-4476-b188-374f806caa45"
      },
      "execution_count": 499,
      "outputs": [
        {
          "output_type": "stream",
          "name": "stdout",
          "text": [
            "<class 'pandas.core.frame.DataFrame'>\n",
            "RangeIndex: 122662 entries, 0 to 122661\n",
            "Data columns (total 2 columns):\n",
            " #   Column  Non-Null Count   Dtype\n",
            "---  ------  --------------   -----\n",
            " 0   id      122662 non-null  int64\n",
            " 1   result  122662 non-null  int64\n",
            "dtypes: int64(2)\n",
            "memory usage: 1.9 MB\n"
          ]
        }
      ]
    },
    {
      "cell_type": "markdown",
      "source": [
        "##Exporting In CSV"
      ],
      "metadata": {
        "id": "OQF3ca6Xqb8Y"
      }
    },
    {
      "cell_type": "code",
      "source": [
        "answer5.to_csv(\"submission.csv\", index = False)"
      ],
      "metadata": {
        "id": "Zv0kmHBHU8R3"
      },
      "execution_count": 500,
      "outputs": []
    },
    {
      "cell_type": "code",
      "source": [],
      "metadata": {
        "id": "vlOzaxZ9WBfl"
      },
      "execution_count": 271,
      "outputs": []
    }
  ]
}